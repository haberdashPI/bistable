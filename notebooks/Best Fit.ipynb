{
 "cells": [
  {
   "cell_type": "code",
   "execution_count": 1,
   "metadata": {},
   "outputs": [
    {
     "name": "stderr",
     "output_type": "stream",
     "text": [
      "┌ Info: Recompiling stale cache file /Users/davidlittle/.julia/compiled/v1.1/RCall/8GFyb.ji for RCall [6f49c342-dc21-5d91-9882-a32aef131414]\n",
      "└ @ Base loading.jl:1184\n",
      "┌ Warning: REPL initialization failed, Revise is not in automatic mode. Call `revise()` manually.\n",
      "└ @ Revise /Users/davidlittle/.julia/packages/Revise/agmgx/src/Revise.jl:982\n",
      "WARNING: could not import StatsModels.Formula into RCall\n",
      "ERROR: LoadError: LoadError: UndefVarError: Formula not defined\n",
      "Stacktrace:\n",
      " [1] top-level scope at none:0\n",
      " [2] include at ./boot.jl:326 [inlined]\n",
      " [3] include_relative(::Module, ::String) at ./loading.jl:1038\n",
      " [4] include at ./sysimg.jl:29 [inlined]\n",
      " [5] include(::String) at /Users/davidlittle/.julia/packages/RCall/iojZI/src/RCall.jl:2\n",
      " [6] top-level scope at none:0\n",
      " [7] include at ./boot.jl:326 [inlined]\n",
      " [8] include_relative(::Module, ::String) at ./loading.jl:1038\n",
      " [9] include(::Module, ::String) at ./sysimg.jl:29\n",
      " [10] top-level scope at none:2\n",
      " [11] eval at ./boot.jl:328 [inlined]\n",
      " [12] eval(::Expr) at ./client.jl:404\n",
      " [13] top-level scope at ./none:3\n",
      "in expression starting at /Users/davidlittle/.julia/packages/RCall/iojZI/src/convert/formula.jl:39\n",
      "in expression starting at /Users/davidlittle/.julia/packages/RCall/iojZI/src/RCall.jl:46\n"
     ]
    },
    {
     "ename": "LoadError",
     "evalue": "Failed to precompile RCall [6f49c342-dc21-5d91-9882-a32aef131414] to /Users/davidlittle/.julia/compiled/v1.1/RCall/8GFyb.ji.",
     "output_type": "error",
     "traceback": [
      "Failed to precompile RCall [6f49c342-dc21-5d91-9882-a32aef131414] to /Users/davidlittle/.julia/compiled/v1.1/RCall/8GFyb.ji.",
      "",
      "Stacktrace:",
      " [1] error(::String) at ./error.jl:33",
      " [2] compilecache(::Base.PkgId, ::String) at ./loading.jl:1197",
      " [3] _require(::Base.PkgId) at ./loading.jl:960",
      " [4] require(::Base.PkgId) at ./loading.jl:858",
      " [5] require(::Module, ::Symbol) at ./loading.jl:853",
      " [6] include at ./boot.jl:326 [inlined]",
      " [7] include_relative(::Module, ::String) at ./loading.jl:1038",
      " [8] include(::Module, ::String) at ./sysimg.jl:29",
      " [9] include(::String) at ./client.jl:403",
      " [10] top-level scope at In[1]:1"
     ]
    }
   ],
   "source": [
    "include(joinpath(\"..\",\"src\",\"setup.jl\"))\n",
    "datadir = joinpath(\"..\",\"data\",\"count_lengths\",\"run_2018-11-26\")"
   ]
  },
  {
   "cell_type": "code",
   "execution_count": 2,
   "metadata": {},
   "outputs": [
    {
     "ename": "UndefVarError",
     "evalue": "UndefVarError: datadir not defined",
     "output_type": "error",
     "traceback": [
      "UndefVarError: datadir not defined",
      "",
      "Stacktrace:",
      " [1] top-level scope at In[2]:1"
     ]
    }
   ],
   "source": [
    "params = load_params(joinpath(datadir,\"params.jld2\"))\n",
    "params[:pindex] = 1:size(params,1)\n",
    "settings = joinpath(\"..\",\"src\",\"settings.toml\")\n",
    "settings = TOML.parsefile(settings)"
   ]
  },
  {
   "cell_type": "code",
   "execution_count": 3,
   "metadata": {},
   "outputs": [
    {
     "ename": "UndefVarError",
     "evalue": "UndefVarError: select_params not defined",
     "output_type": "error",
     "traceback": [
      "UndefVarError: select_params not defined",
      "",
      "Stacktrace:",
      " [1] top-level scope at In[3]:1"
     ]
    }
   ],
   "source": [
    "p = copy(params[select_params(params,t_c_a=5,t_c_m=5,Δf=6),:])"
   ]
  },
  {
   "cell_type": "code",
   "execution_count": 4,
   "metadata": {},
   "outputs": [
    {
     "ename": "UndefVarError",
     "evalue": "UndefVarError: bistable_model not defined",
     "output_type": "error",
     "traceback": [
      "UndefVarError: bistable_model not defined",
      "",
      "Stacktrace:",
      " [1] top-level scope at In[4]:1"
     ]
    }
   ],
   "source": [
    "result = bistable_model(p,settings,intermediate_results=true)"
   ]
  },
  {
   "cell_type": "code",
   "execution_count": null,
   "metadata": {},
   "outputs": [],
   "source": [
    "# TODO: plot the results, and look at parameters for the other levels as well"
   ]
  }
 ],
 "metadata": {
  "kernelspec": {
   "display_name": "Julia 1.1.0",
   "language": "julia",
   "name": "julia-1.1"
  },
  "language_info": {
   "file_extension": ".jl",
   "mimetype": "application/julia",
   "name": "julia",
   "version": "1.1.1"
  }
 },
 "nbformat": 4,
 "nbformat_minor": 2
}
