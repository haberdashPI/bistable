{
 "cells": [
  {
   "cell_type": "markdown",
   "metadata": {},
   "source": [
    "# Setup"
   ]
  },
  {
   "cell_type": "code",
   "execution_count": 1,
   "metadata": {},
   "outputs": [
    {
     "data": {
      "text/html": [
       "<script charset=\"utf-8\" type='text/javascript'>\n",
       "/*! wavesurfer.js 1.2.1 (Sat, 01 Oct 2016 09:49:34 GMT)\n",
       "* https://github.com/katspaugh/wavesurfer.js\n",
       "* @license CC-BY-3.0 */\n",
       "!function(a,b){\"function\"==typeof define&&define.amd?define(\"wavesurfer\",[],function(){return a.WaveSurfer=b()}):\"object\"==typeof exports?module.exports=b():a.WaveSurfer=b()}(this,function(){\"use strict\";var a={defaultParams:{height:128,waveColor:\"#999\",progressColor:\"#555\",cursorColor:\"#333\",cursorWidth:1,skipLength:2,minPxPerSec:20,pixelRatio:window.devicePixelRatio||screen.deviceXDPI/screen.logicalXDPI,fillParent:!0,scrollParent:!1,hideScrollbar:!1,normalize:!1,audioContext:null,container:null,dragSelection:!0,loopSelection:!0,audioRate:1,interact:!0,splitChannels:!1,mediaContainer:null,mediaControls:!1,renderer:\"Canvas\",backend:\"WebAudio\",mediaType:\"audio\",autoCenter:!0},init:function(b){if(this.params=a.util.extend({},this.defaultParams,b),this.container=\"string\"==typeof b.container?document.querySelector(this.params.container):this.params.container,!this.container)throw new Error(\"Container element not found\");if(null==this.params.mediaContainer?this.mediaContainer=this.container:\"string\"==typeof this.params.mediaContainer?this.mediaContainer=document.querySelector(this.params.mediaContainer):this.mediaContainer=this.params.mediaContainer,!this.mediaContainer)throw new Error(\"Media Container element not found\");this.savedVolume=0,this.isMuted=!1,this.tmpEvents=[],this.currentAjax=null,this.createDrawer(),this.createBackend(),this.isDestroyed=!1},createDrawer:function(){var b=this;this.drawer=Object.create(a.Drawer[this.params.renderer]),this.drawer.init(this.container,this.params),this.drawer.on(\"redraw\",function(){b.drawBuffer(),b.drawer.progress(b.backend.getPlayedPercents())}),this.drawer.on(\"click\",function(a,c){setTimeout(function(){b.seekTo(c)},0)}),this.drawer.on(\"scroll\",function(a){b.fireEvent(\"scroll\",a)})},createBackend:function(){var b=this;this.backend&&this.backend.destroy(),\"AudioElement\"==this.params.backend&&(this.params.backend=\"MediaElement\"),\"WebAudio\"!=this.params.backend||a.WebAudio.supportsWebAudio()||(this.params.backend=\"MediaElement\"),this.backend=Object.create(a[this.params.backend]),this.backend.init(this.params),this.backend.on(\"finish\",function(){b.fireEvent(\"finish\")}),this.backend.on(\"play\",function(){b.fireEvent(\"play\")}),this.backend.on(\"pause\",function(){b.fireEvent(\"pause\")}),this.backend.on(\"audioprocess\",function(a){b.drawer.progress(b.backend.getPlayedPercents()),b.fireEvent(\"audioprocess\",a)})},getDuration:function(){return this.backend.getDuration()},getCurrentTime:function(){return this.backend.getCurrentTime()},play:function(a,b){this.fireEvent(\"interaction\",this.play.bind(this,a,b)),this.backend.play(a,b)},pause:function(){this.backend.pause()},playPause:function(){this.backend.isPaused()?this.play():this.pause()},isPlaying:function(){return!this.backend.isPaused()},skipBackward:function(a){this.skip(-a||-this.params.skipLength)},skipForward:function(a){this.skip(a||this.params.skipLength)},skip:function(a){var b=this.getCurrentTime()||0,c=this.getDuration()||1;b=Math.max(0,Math.min(c,b+(a||0))),this.seekAndCenter(b/c)},seekAndCenter:function(a){this.seekTo(a),this.drawer.recenter(a)},seekTo:function(a){this.fireEvent(\"interaction\",this.seekTo.bind(this,a));var b=this.backend.isPaused(),c=this.params.scrollParent;b&&(this.params.scrollParent=!1),this.backend.seekTo(a*this.getDuration()),this.drawer.progress(this.backend.getPlayedPercents()),b||(this.backend.pause(),this.backend.play()),this.params.scrollParent=c,this.fireEvent(\"seek\",a)},stop:function(){this.pause(),this.seekTo(0),this.drawer.progress(0)},setVolume:function(a){this.backend.setVolume(a)},setPlaybackRate:function(a){this.backend.setPlaybackRate(a)},toggleMute:function(){this.isMuted?(this.backend.setVolume(this.savedVolume),this.isMuted=!1):(this.savedVolume=this.backend.getVolume(),this.backend.setVolume(0),this.isMuted=!0)},toggleScroll:function(){this.params.scrollParent=!this.params.scrollParent,this.drawBuffer()},toggleInteraction:function(){this.params.interact=!this.params.interact},drawBuffer:function(){var a=Math.round(this.getDuration()*this.params.minPxPerSec*this.params.pixelRatio),b=this.drawer.getWidth(),c=a;this.params.fillParent&&(!this.params.scrollParent||a<b)&&(c=b);var d=this.backend.getPeaks(c);this.drawer.drawPeaks(d,c),this.fireEvent(\"redraw\",d,c)},zoom:function(a){this.params.minPxPerSec=a,this.params.scrollParent=!0,this.drawBuffer(),this.drawer.progress(this.backend.getPlayedPercents()),this.drawer.recenter(this.getCurrentTime()/this.getDuration()),this.fireEvent(\"zoom\",a)},loadArrayBuffer:function(a){this.decodeArrayBuffer(a,function(a){this.isDestroyed||this.loadDecodedBuffer(a)}.bind(this))},loadDecodedBuffer:function(a){this.backend.load(a),this.drawBuffer(),this.fireEvent(\"ready\")},loadBlob:function(a){var b=this,c=new FileReader;c.addEventListener(\"progress\",function(a){b.onProgress(a)}),c.addEventListener(\"load\",function(a){b.loadArrayBuffer(a.target.result)}),c.addEventListener(\"error\",function(){b.fireEvent(\"error\",\"Error reading file\")}),c.readAsArrayBuffer(a),this.empty()},load:function(a,b){switch(this.empty(),this.params.backend){case\"WebAudio\":return this.loadBuffer(a,b);case\"MediaElement\":return this.loadMediaElement(a,b)}},loadBuffer:function(a,b){var c=function(b){return b&&this.tmpEvents.push(this.once(\"ready\",b)),this.getArrayBuffer(a,this.loadArrayBuffer.bind(this))}.bind(this);return b?(this.backend.setPeaks(b),this.drawBuffer(),this.tmpEvents.push(this.once(\"interaction\",c)),void 0):c()},loadMediaElement:function(a,b){var c=a;if(\"string\"==typeof a)this.backend.load(c,this.mediaContainer,b);else{var d=a;this.backend.loadElt(d,b),c=d.src}this.tmpEvents.push(this.backend.once(\"canplay\",function(){this.drawBuffer(),this.fireEvent(\"ready\")}.bind(this)),this.backend.once(\"error\",function(a){this.fireEvent(\"error\",a)}.bind(this))),b?this.backend.setPeaks(b):this.backend.supportsWebAudio()&&this.getArrayBuffer(c,function(a){this.decodeArrayBuffer(a,function(a){this.backend.buffer=a,this.drawBuffer()}.bind(this))}.bind(this))},decodeArrayBuffer:function(a,b){this.arraybuffer=a,this.backend.decodeArrayBuffer(a,function(c){this.isDestroyed||this.arraybuffer!=a||(b(c),this.arraybuffer=null)}.bind(this),this.fireEvent.bind(this,\"error\",\"Error decoding audiobuffer\"))},getArrayBuffer:function(b,c){var d=this,e=a.util.ajax({url:b,responseType:\"arraybuffer\"});return this.currentAjax=e,this.tmpEvents.push(e.on(\"progress\",function(a){d.onProgress(a)}),e.on(\"success\",function(a,b){c(a),d.currentAjax=null}),e.on(\"error\",function(a){d.fireEvent(\"error\",\"XHR error: \"+a.target.statusText),d.currentAjax=null})),e},onProgress:function(a){if(a.lengthComputable)var b=a.loaded/a.total;else b=a.loaded/(a.loaded+1e6);this.fireEvent(\"loading\",Math.round(100*b),a.target)},exportPCM:function(a,b,c){a=a||1024,b=b||1e4,c=c||!1;var d=this.backend.getPeaks(a,b),e=[].map.call(d,function(a){return Math.round(a*b)/b}),f=JSON.stringify(e);return c||window.open(\"data:application/json;charset=utf-8,\"+encodeURIComponent(f)),f},exportImage:function(a,b){return a||(a=\"image/png\"),b||(b=1),this.drawer.getImage(a,b)},cancelAjax:function(){this.currentAjax&&(this.currentAjax.xhr.abort(),this.currentAjax=null)},clearTmpEvents:function(){this.tmpEvents.forEach(function(a){a.un()})},empty:function(){this.backend.isPaused()||(this.stop(),this.backend.disconnectSource()),this.cancelAjax(),this.clearTmpEvents(),this.drawer.progress(0),this.drawer.setWidth(0),this.drawer.drawPeaks({length:this.drawer.getWidth()},0)},destroy:function(){this.fireEvent(\"destroy\"),this.cancelAjax(),this.clearTmpEvents(),this.unAll(),this.backend.destroy(),this.drawer.destroy(),this.isDestroyed=!0}};return a.create=function(b){var c=Object.create(a);return c.init(b),c},a.util={extend:function(a){var b=Array.prototype.slice.call(arguments,1);return b.forEach(function(b){Object.keys(b).forEach(function(c){a[c]=b[c]})}),a},min:function(a){var b=+(1/0);for(var c in a)a[c]<b&&(b=a[c]);return b},max:function(a){var b=-(1/0);for(var c in a)a[c]>b&&(b=a[c]);return b},getId:function(){return\"wavesurfer_\"+Math.random().toString(32).substring(2)},ajax:function(b){var c=Object.create(a.Observer),d=new XMLHttpRequest,e=!1;return d.open(b.method||\"GET\",b.url,!0),d.responseType=b.responseType||\"json\",d.addEventListener(\"progress\",function(a){c.fireEvent(\"progress\",a),a.lengthComputable&&a.loaded==a.total&&(e=!0)}),d.addEventListener(\"load\",function(a){e||c.fireEvent(\"progress\",a),c.fireEvent(\"load\",a),200==d.status||206==d.status?c.fireEvent(\"success\",d.response,a):c.fireEvent(\"error\",a)}),d.addEventListener(\"error\",function(a){c.fireEvent(\"error\",a)}),d.send(),c.xhr=d,c}},a.Observer={on:function(a,b){this.handlers||(this.handlers={});var c=this.handlers[a];return c||(c=this.handlers[a]=[]),c.push(b),{name:a,callback:b,un:this.un.bind(this,a,b)}},un:function(a,b){if(this.handlers){var c=this.handlers[a];if(c)if(b)for(var d=c.length-1;d>=0;d--)c[d]==b&&c.splice(d,1);else c.length=0}},unAll:function(){this.handlers=null},once:function(a,b){var c=this,d=function(){b.apply(this,arguments),setTimeout(function(){c.un(a,d)},0)};return this.on(a,d)},fireEvent:function(a){if(this.handlers){var b=this.handlers[a],c=Array.prototype.slice.call(arguments,1);b&&b.forEach(function(a){a.apply(null,c)})}}},a.util.extend(a,a.Observer),a.WebAudio={scriptBufferSize:256,PLAYING_STATE:0,PAUSED_STATE:1,FINISHED_STATE:2,supportsWebAudio:function(){return!(!window.AudioContext&&!window.webkitAudioContext)},getAudioContext:function(){return a.WebAudio.audioContext||(a.WebAudio.audioContext=new(window.AudioContext||window.webkitAudioContext)),a.WebAudio.audioContext},getOfflineAudioContext:function(b){return a.WebAudio.offlineAudioContext||(a.WebAudio.offlineAudioContext=new(window.OfflineAudioContext||window.webkitOfflineAudioContext)(1,2,b)),a.WebAudio.offlineAudioContext},init:function(b){this.params=b,this.ac=b.audioContext||this.getAudioContext(),this.lastPlay=this.ac.currentTime,this.startPosition=0,this.scheduledPause=null,this.states=[Object.create(a.WebAudio.state.playing),Object.create(a.WebAudio.state.paused),Object.create(a.WebAudio.state.finished)],this.createVolumeNode(),this.createScriptNode(),this.createAnalyserNode(),this.setState(this.PAUSED_STATE),this.setPlaybackRate(this.params.audioRate)},disconnectFilters:function(){this.filters&&(this.filters.forEach(function(a){a&&a.disconnect()}),this.filters=null,this.analyser.connect(this.gainNode))},setState:function(a){this.state!==this.states[a]&&(this.state=this.states[a],this.state.init.call(this))},setFilter:function(){this.setFilters([].slice.call(arguments))},setFilters:function(a){this.disconnectFilters(),a&&a.length&&(this.filters=a,this.analyser.disconnect(),a.reduce(function(a,b){return a.connect(b),b},this.analyser).connect(this.gainNode))},createScriptNode:function(){this.ac.createScriptProcessor?this.scriptNode=this.ac.createScriptProcessor(this.scriptBufferSize):this.scriptNode=this.ac.createJavaScriptNode(this.scriptBufferSize),this.scriptNode.connect(this.ac.destination)},addOnAudioProcess:function(){var a=this;this.scriptNode.onaudioprocess=function(){var b=a.getCurrentTime();b>=a.getDuration()?(a.setState(a.FINISHED_STATE),a.fireEvent(\"pause\")):b>=a.scheduledPause?a.pause():a.state===a.states[a.PLAYING_STATE]&&a.fireEvent(\"audioprocess\",b)}},removeOnAudioProcess:function(){this.scriptNode.onaudioprocess=null},createAnalyserNode:function(){this.analyser=this.ac.createAnalyser(),this.analyser.connect(this.gainNode)},createVolumeNode:function(){this.ac.createGain?this.gainNode=this.ac.createGain():this.gainNode=this.ac.createGainNode(),this.gainNode.connect(this.ac.destination)},setVolume:function(a){this.gainNode.gain.value=a},getVolume:function(){return this.gainNode.gain.value},decodeArrayBuffer:function(a,b,c){this.offlineAc||(this.offlineAc=this.getOfflineAudioContext(this.ac?this.ac.sampleRate:44100)),this.offlineAc.decodeAudioData(a,function(a){b(a)}.bind(this),c)},setPeaks:function(a){this.peaks=a},getPeaks:function(a){if(this.peaks)return this.peaks;for(var b=this.buffer.length/a,c=~~(b/10)||1,d=this.buffer.numberOfChannels,e=[],f=[],g=0;g<d;g++)for(var h=e[g]=[],i=this.buffer.getChannelData(g),j=0;j<a;j++){for(var k=~~(j*b),l=~~(k+b),m=0,n=0,o=k;o<l;o+=c){var p=i[o];p>n&&(n=p),p<m&&(m=p)}h[2*j]=n,h[2*j+1]=m,(0==g||n>f[2*j])&&(f[2*j]=n),(0==g||m<f[2*j+1])&&(f[2*j+1]=m)}return this.params.splitChannels?e:f},getPlayedPercents:function(){return this.state.getPlayedPercents.call(this)},disconnectSource:function(){this.source&&this.source.disconnect()},destroy:function(){this.isPaused()||this.pause(),this.unAll(),this.buffer=null,this.disconnectFilters(),this.disconnectSource(),this.gainNode.disconnect(),this.scriptNode.disconnect(),this.analyser.disconnect()},load:function(a){this.startPosition=0,this.lastPlay=this.ac.currentTime,this.buffer=a,this.createSource()},createSource:function(){this.disconnectSource(),this.source=this.ac.createBufferSource(),this.source.start=this.source.start||this.source.noteGrainOn,this.source.stop=this.source.stop||this.source.noteOff,this.source.playbackRate.value=this.playbackRate,this.source.buffer=this.buffer,this.source.connect(this.analyser)},isPaused:function(){return this.state!==this.states[this.PLAYING_STATE]},getDuration:function(){return this.buffer?this.buffer.duration:0},seekTo:function(a,b){if(this.buffer)return this.scheduledPause=null,null==a&&(a=this.getCurrentTime(),a>=this.getDuration()&&(a=0)),null==b&&(b=this.getDuration()),this.startPosition=a,this.lastPlay=this.ac.currentTime,this.state===this.states[this.FINISHED_STATE]&&this.setState(this.PAUSED_STATE),{start:a,end:b}},getPlayedTime:function(){return(this.ac.currentTime-this.lastPlay)*this.playbackRate},play:function(a,b){if(this.buffer){this.createSource();var c=this.seekTo(a,b);a=c.start,b=c.end,this.scheduledPause=b,this.source.start(0,a,b-a),this.setState(this.PLAYING_STATE),this.fireEvent(\"play\")}},pause:function(){this.scheduledPause=null,this.startPosition+=this.getPlayedTime(),this.source&&this.source.stop(0),this.setState(this.PAUSED_STATE),this.fireEvent(\"pause\")},getCurrentTime:function(){return this.state.getCurrentTime.call(this)},setPlaybackRate:function(a){a=a||1,this.isPaused()?this.playbackRate=a:(this.pause(),this.playbackRate=a,this.play())}},a.WebAudio.state={},a.WebAudio.state.playing={init:function(){this.addOnAudioProcess()},getPlayedPercents:function(){var a=this.getDuration();return this.getCurrentTime()/a||0},getCurrentTime:function(){return this.startPosition+this.getPlayedTime()}},a.WebAudio.state.paused={init:function(){this.removeOnAudioProcess()},getPlayedPercents:function(){var a=this.getDuration();return this.getCurrentTime()/a||0},getCurrentTime:function(){return this.startPosition}},a.WebAudio.state.finished={init:function(){this.removeOnAudioProcess(),this.fireEvent(\"finish\")},getPlayedPercents:function(){return 1},getCurrentTime:function(){return this.getDuration()}},a.util.extend(a.WebAudio,a.Observer),a.MediaElement=Object.create(a.WebAudio),a.util.extend(a.MediaElement,{init:function(a){this.params=a,this.media={currentTime:0,duration:0,paused:!0,playbackRate:1,play:function(){},pause:function(){}},this.mediaType=a.mediaType.toLowerCase(),this.elementPosition=a.elementPosition,this.setPlaybackRate(this.params.audioRate),this.createTimer()},createTimer:function(){var a=this,b=function(){if(!a.isPaused()){a.fireEvent(\"audioprocess\",a.getCurrentTime());var c=window.requestAnimationFrame||window.webkitRequestAnimationFrame;c(b)}};this.on(\"play\",b)},load:function(a,b,c){var d=document.createElement(this.mediaType);d.controls=this.params.mediaControls,d.autoplay=this.params.autoplay||!1,d.preload=\"auto\",d.src=a,d.style.width=\"100%\";var e=b.querySelector(this.mediaType);e&&b.removeChild(e),b.appendChild(d),this._load(d,c)},loadElt:function(a,b){var c=a;c.controls=this.params.mediaControls,c.autoplay=this.params.autoplay||!1,this._load(c,b)},_load:function(a,b){var c=this;a.load(),a.addEventListener(\"error\",function(){c.fireEvent(\"error\",\"Error loading media element\")}),a.addEventListener(\"canplay\",function(){c.fireEvent(\"canplay\")}),a.addEventListener(\"ended\",function(){c.fireEvent(\"finish\")}),this.media=a,this.peaks=b,this.onPlayEnd=null,this.buffer=null,this.setPlaybackRate(this.playbackRate)},isPaused:function(){return!this.media||this.media.paused},getDuration:function(){var a=this.media.duration;return a>=1/0&&(a=this.media.seekable.end(0)),a},getCurrentTime:function(){return this.media&&this.media.currentTime},getPlayedPercents:function(){return this.getCurrentTime()/this.getDuration()||0},setPlaybackRate:function(a){this.playbackRate=a||1,this.media.playbackRate=this.playbackRate},seekTo:function(a){null!=a&&(this.media.currentTime=a),this.clearPlayEnd()},play:function(a,b){this.seekTo(a),this.media.play(),b&&this.setPlayEnd(b),this.fireEvent(\"play\")},pause:function(){this.media&&this.media.pause(),this.clearPlayEnd(),this.fireEvent(\"pause\")},setPlayEnd:function(a){var b=this;this.onPlayEnd=function(c){c>=a&&(b.pause(),b.seekTo(a))},this.on(\"audioprocess\",this.onPlayEnd)},clearPlayEnd:function(){this.onPlayEnd&&(this.un(\"audioprocess\",this.onPlayEnd),this.onPlayEnd=null)},getPeaks:function(b){return this.buffer?a.WebAudio.getPeaks.call(this,b):this.peaks||[]},getVolume:function(){return this.media.volume},setVolume:function(a){this.media.volume=a},destroy:function(){this.pause(),this.unAll(),this.media&&this.media.parentNode&&this.media.parentNode.removeChild(this.media),this.media=null}}),a.AudioElement=a.MediaElement,a.Drawer={init:function(a,b){this.container=a,this.params=b,this.width=0,this.height=b.height*this.params.pixelRatio,this.lastPos=0,this.initDrawer(b),this.createWrapper(),this.createElements()},createWrapper:function(){this.wrapper=this.container.appendChild(document.createElement(\"wave\")),this.style(this.wrapper,{display:\"block\",position:\"relative\",userSelect:\"none\",webkitUserSelect:\"none\",height:this.params.height+\"px\"}),(this.params.fillParent||this.params.scrollParent)&&this.style(this.wrapper,{width:\"100%\",overflowX:this.params.hideScrollbar?\"hidden\":\"auto\",overflowY:\"hidden\"}),this.setupWrapperEvents()},handleEvent:function(a,b){!b&&a.preventDefault();var c,d=a.targetTouches?a.targetTouches[0].clientX:a.clientX,e=this.wrapper.getBoundingClientRect(),f=this.width,g=this.getWidth();return!this.params.fillParent&&f<g?(c=(d-e.left)*this.params.pixelRatio/f||0,c>1&&(c=1)):c=(d-e.left+this.wrapper.scrollLeft)/this.wrapper.scrollWidth||0,c},setupWrapperEvents:function(){var a=this;this.wrapper.addEventListener(\"click\",function(b){var c=a.wrapper.offsetHeight-a.wrapper.clientHeight;if(0!=c){var d=a.wrapper.getBoundingClientRect();if(b.clientY>=d.bottom-c)return}a.params.interact&&a.fireEvent(\"click\",b,a.handleEvent(b))}),this.wrapper.addEventListener(\"scroll\",function(b){a.fireEvent(\"scroll\",b)})},drawPeaks:function(a,b){this.resetScroll(),this.setWidth(b),this.params.barWidth?this.drawBars(a):this.drawWave(a)},style:function(a,b){return Object.keys(b).forEach(function(c){a.style[c]!==b[c]&&(a.style[c]=b[c])}),a},resetScroll:function(){null!==this.wrapper&&(this.wrapper.scrollLeft=0)},recenter:function(a){var b=this.wrapper.scrollWidth*a;this.recenterOnPosition(b,!0)},recenterOnPosition:function(a,b){var c=this.wrapper.scrollLeft,d=~~(this.wrapper.clientWidth/2),e=a-d,f=e-c,g=this.wrapper.scrollWidth-this.wrapper.clientWidth;if(0!=g){if(!b&&-d<=f&&f<d){var h=5;f=Math.max(-h,Math.min(h,f)),e=c+f}e=Math.max(0,Math.min(g,e)),e!=c&&(this.wrapper.scrollLeft=e)}},getWidth:function(){return Math.round(this.container.clientWidth*this.params.pixelRatio)},setWidth:function(a){this.width=a,this.params.fillParent||this.params.scrollParent?this.style(this.wrapper,{width:\"\"}):this.style(this.wrapper,{width:~~(this.width/this.params.pixelRatio)+\"px\"}),this.updateSize()},setHeight:function(a){a!=this.height&&(this.height=a,this.style(this.wrapper,{height:~~(this.height/this.params.pixelRatio)+\"px\"}),this.updateSize())},progress:function(a){var b=1/this.params.pixelRatio,c=Math.round(a*this.width)*b;if(c<this.lastPos||c-this.lastPos>=b){if(this.lastPos=c,this.params.scrollParent&&this.params.autoCenter){var d=~~(this.wrapper.scrollWidth*a);this.recenterOnPosition(d)}this.updateProgress(a)}},destroy:function(){this.unAll(),this.wrapper&&(this.container.removeChild(this.wrapper),this.wrapper=null)},initDrawer:function(){},createElements:function(){},updateSize:function(){},drawWave:function(a,b){},clearWave:function(){},updateProgress:function(a){}},a.util.extend(a.Drawer,a.Observer),a.Drawer.Canvas=Object.create(a.Drawer),a.util.extend(a.Drawer.Canvas,{createElements:function(){var a=this.wrapper.appendChild(this.style(document.createElement(\"canvas\"),{position:\"absolute\",zIndex:1,left:0,top:0,bottom:0}));if(this.waveCc=a.getContext(\"2d\"),this.progressWave=this.wrapper.appendChild(this.style(document.createElement(\"wave\"),{position:\"absolute\",zIndex:2,left:0,top:0,bottom:0,overflow:\"hidden\",width:\"0\",display:\"none\",boxSizing:\"border-box\",borderRightStyle:\"solid\",borderRightWidth:this.params.cursorWidth+\"px\",borderRightColor:this.params.cursorColor})),this.params.waveColor!=this.params.progressColor){var b=this.progressWave.appendChild(document.createElement(\"canvas\"));this.progressCc=b.getContext(\"2d\")}},updateSize:function(){var a=Math.round(this.width/this.params.pixelRatio);this.waveCc.canvas.width=this.width,this.waveCc.canvas.height=this.height,this.style(this.waveCc.canvas,{width:a+\"px\"}),this.style(this.progressWave,{display:\"block\"}),this.progressCc&&(this.progressCc.canvas.width=this.width,this.progressCc.canvas.height=this.height,this.style(this.progressCc.canvas,{width:a+\"px\"})),this.clearWave()},clearWave:function(){this.waveCc.clearRect(0,0,this.width,this.height),this.progressCc&&this.progressCc.clearRect(0,0,this.width,this.height)},drawBars:function(b,c){if(b[0]instanceof Array){var d=b;if(this.params.splitChannels)return this.setHeight(d.length*this.params.height*this.params.pixelRatio),void d.forEach(this.drawBars,this);b=d[0]}var e=[].some.call(b,function(a){return a<0});e&&(b=[].filter.call(b,function(a,b){return b%2==0}));var f=.5/this.params.pixelRatio,g=this.width,h=this.params.height*this.params.pixelRatio,i=h*c||0,j=h/2,k=b.length,l=this.params.barWidth*this.params.pixelRatio,m=Math.max(this.params.pixelRatio,~~(l/2)),n=l+m,o=1;this.params.normalize&&(o=a.util.max(b));var p=k/g;this.waveCc.fillStyle=this.params.waveColor,this.progressCc&&(this.progressCc.fillStyle=this.params.progressColor),[this.waveCc,this.progressCc].forEach(function(a){if(a)for(var c=0;c<g;c+=n){var d=Math.round(b[Math.floor(c*p)]/o*j);a.fillRect(c+f,j-d+i,l+f,2*d)}},this)},drawWave:function(b,c){if(b[0]instanceof Array){var d=b;if(this.params.splitChannels)return this.setHeight(d.length*this.params.height*this.params.pixelRatio),void d.forEach(this.drawWave,this);b=d[0]}var e=[].some.call(b,function(a){return a<0});if(!e){for(var f=[],g=0,h=b.length;g<h;g++)f[2*g]=b[g],f[2*g+1]=-b[g];b=f}var i=.5/this.params.pixelRatio,j=this.params.height*this.params.pixelRatio,k=j*c||0,l=j/2,m=~~(b.length/2),n=1;this.params.fillParent&&this.width!=m&&(n=this.width/m);var o=1;if(this.params.normalize){var p=a.util.max(b),q=a.util.min(b);o=-q>p?-q:p}this.waveCc.fillStyle=this.params.waveColor,this.progressCc&&(this.progressCc.fillStyle=this.params.progressColor),[this.waveCc,this.progressCc].forEach(function(a){if(a){a.beginPath(),a.moveTo(i,l+k);for(var c=0;c<m;c++){var d=Math.round(b[2*c]/o*l);a.lineTo(c*n+i,l-d+k)}for(var c=m-1;c>=0;c--){var d=Math.round(b[2*c+1]/o*l);a.lineTo(c*n+i,l-d+k)}a.closePath(),a.fill(),a.fillRect(0,l+k-i,this.width,i)}},this)},updateProgress:function(a){var b=Math.round(this.width*a)/this.params.pixelRatio;this.style(this.progressWave,{width:b+\"px\"})},getImage:function(a,b){return this.waveCc.canvas.toDataURL(a,b)}}),a.Drawer.MultiCanvas=Object.create(a.Drawer),a.util.extend(a.Drawer.MultiCanvas,{initDrawer:function(a){if(this.maxCanvasWidth=null!=a.maxCanvasWidth?a.maxCanvasWidth:4e3,this.maxCanvasElementWidth=Math.round(this.maxCanvasWidth/this.params.pixelRatio),this.maxCanvasWidth<=1)throw\"maxCanvasWidth must be greater than 1.\";if(this.maxCanvasWidth%2==1)throw\"maxCanvasWidth must be an even number.\";this.hasProgressCanvas=this.params.waveColor!=this.params.progressColor,this.halfPixel=.5/this.params.pixelRatio,this.canvases=[]},createElements:function(){this.progressWave=this.wrapper.appendChild(this.style(document.createElement(\"wave\"),{position:\"absolute\",zIndex:2,left:0,top:0,bottom:0,overflow:\"hidden\",width:\"0\",display:\"none\",boxSizing:\"border-box\",borderRightStyle:\"solid\",borderRightWidth:this.params.cursorWidth+\"px\",borderRightColor:this.params.cursorColor})),this.addCanvas()},updateSize:function(){for(var a=Math.round(this.width/this.params.pixelRatio),b=Math.ceil(a/this.maxCanvasElementWidth);this.canvases.length<b;)this.addCanvas();for(;this.canvases.length>b;)this.removeCanvas();for(var c in this.canvases){var d=this.maxCanvasWidth+2*Math.ceil(this.params.pixelRatio/2);c==this.canvases.length-1&&(d=this.width-this.maxCanvasWidth*(this.canvases.length-1)),this.updateDimensions(this.canvases[c],d,this.height),this.clearWaveForEntry(this.canvases[c])}},addCanvas:function(){var a={},b=this.maxCanvasElementWidth*this.canvases.length;a.wave=this.wrapper.appendChild(this.style(document.createElement(\"canvas\"),{position:\"absolute\",zIndex:1,left:b+\"px\",top:0,bottom:0})),a.waveCtx=a.wave.getContext(\"2d\"),this.hasProgressCanvas&&(a.progress=this.progressWave.appendChild(this.style(document.createElement(\"canvas\"),{position:\"absolute\",left:b+\"px\",top:0,bottom:0})),a.progressCtx=a.progress.getContext(\"2d\")),this.canvases.push(a)},removeCanvas:function(){var a=this.canvases.pop();a.wave.parentElement.removeChild(a.wave),this.hasProgressCanvas&&a.progress.parentElement.removeChild(a.progress)},updateDimensions:function(a,b,c){var d=Math.round(b/this.params.pixelRatio),e=Math.round(this.width/this.params.pixelRatio);a.start=a.waveCtx.canvas.offsetLeft/e||0,a.end=a.start+d/e,a.waveCtx.canvas.width=b,a.waveCtx.canvas.height=c,this.style(a.waveCtx.canvas,{width:d+\"px\"}),this.style(this.progressWave,{display:\"block\"}),this.hasProgressCanvas&&(a.progressCtx.canvas.width=b,a.progressCtx.canvas.height=c,this.style(a.progressCtx.canvas,{width:d+\"px\"}))},clearWave:function(){for(var a in this.canvases)this.clearWaveForEntry(this.canvases[a])},clearWaveForEntry:function(a){a.waveCtx.clearRect(0,0,a.waveCtx.canvas.width,a.waveCtx.canvas.height),this.hasProgressCanvas&&a.progressCtx.clearRect(0,0,a.progressCtx.canvas.width,a.progressCtx.canvas.height)},drawBars:function(b,c){if(b[0]instanceof Array){var d=b;if(this.params.splitChannels)return this.setHeight(d.length*this.params.height*this.params.pixelRatio),void d.forEach(this.drawBars,this);b=d[0]}var e=[].some.call(b,function(a){return a<0});e&&(b=[].filter.call(b,function(a,b){return b%2==0}));var f=this.width,g=this.params.height*this.params.pixelRatio,h=g*c||0,i=g/2,j=b.length,k=this.params.barWidth*this.params.pixelRatio,l=Math.max(this.params.pixelRatio,~~(k/2)),m=k+l,n=1;this.params.normalize&&(n=a.util.max(b));for(var o=j/f,p=0;p<f;p+=m){var q=Math.round(b[Math.floor(p*o)]/n*i);this.fillRect(p+this.halfPixel,i-q+h,k+this.halfPixel,2*q)}},drawWave:function(b,c){if(b[0]instanceof Array){var d=b;if(this.params.splitChannels)return this.setHeight(d.length*this.params.height*this.params.pixelRatio),void d.forEach(this.drawWave,this);b=d[0]}var e=[].some.call(b,function(a){return a<0});if(!e){for(var f=[],g=0,h=b.length;g<h;g++)f[2*g]=b[g],f[2*g+1]=-b[g];b=f}var i=this.params.height*this.params.pixelRatio,j=i*c||0,k=i/2,l=1;if(this.params.normalize){var m=a.util.max(b),n=a.util.min(b);l=-n>m?-n:m}this.drawLine(b,l,k,j),this.fillRect(0,k+j-this.halfPixel,this.width,this.halfPixel)},drawLine:function(a,b,c,d){for(var e in this.canvases){var f=this.canvases[e];this.setFillStyles(f),this.drawLineToContext(f,f.waveCtx,a,b,c,d),this.drawLineToContext(f,f.progressCtx,a,b,c,d)}},drawLineToContext:function(a,b,c,d,e,f){if(b){var g=c.length/2,h=1;this.params.fillParent&&this.width!=g&&(h=this.width/g);var i=Math.round(g*a.start),j=Math.round(g*a.end);b.beginPath(),b.moveTo(this.halfPixel,e+f);for(var k=i;k<j;k++){var l=Math.round(c[2*k]/d*e);b.lineTo((k-i)*h+this.halfPixel,e-l+f)}for(var k=j-1;k>=i;k--){var l=Math.round(c[2*k+1]/d*e);b.lineTo((k-i)*h+this.halfPixel,e-l+f)}b.closePath(),b.fill()}},fillRect:function(a,b,c,d){for(var e in this.canvases){var f=this.canvases[e],g=e*this.maxCanvasWidth,h={x1:Math.max(a,e*this.maxCanvasWidth),y1:b,x2:Math.min(a+c,e*this.maxCanvasWidth+f.waveCtx.canvas.width),y2:b+d};h.x1<h.x2&&(this.setFillStyles(f),this.fillRectToContext(f.waveCtx,h.x1-g,h.y1,h.x2-h.x1,h.y2-h.y1),this.fillRectToContext(f.progressCtx,h.x1-g,h.y1,h.x2-h.x1,h.y2-h.y1))}},fillRectToContext:function(a,b,c,d,e){a&&a.fillRect(b,c,d,e)},setFillStyles:function(a){a.waveCtx.fillStyle=this.params.waveColor,this.hasProgressCanvas&&(a.progressCtx.fillStyle=this.params.progressColor)},updateProgress:function(a){var b=Math.round(this.width*a)/this.params.pixelRatio;this.style(this.progressWave,{width:b+\"px\"})}}),function(){var b=function(){var b=document.querySelectorAll(\"wavesurfer\");Array.prototype.forEach.call(b,function(b){var c=a.util.extend({container:b,backend:\"MediaElement\",mediaControls:!0},b.dataset);b.style.display=\"block\";var d=a.create(c);if(b.dataset.peaks)var e=JSON.parse(b.dataset.peaks);d.load(b.dataset.url,e)})};\"complete\"===document.readyState?b():window.addEventListener(\"load\",b)}(),a});\n",
       "//# sourceMappingURL=wavesurfer.min.js.map\n",
       "console.log(\"SampledSignals.jl: wavesurfer library loaded\")\n",
       "</script>\n"
      ]
     },
     "metadata": {},
     "output_type": "display_data"
    },
    {
     "name": "stderr",
     "output_type": "stream",
     "text": [
      "┌ Warning: Package RCall does not have AxisArrays in its dependencies:\n",
      "│ - If you have RCall checked out for development and have\n",
      "│   added AxisArrays as a dependency but haven't updated your primary\n",
      "│   environment's manifest file, try `Pkg.resolve()`.\n",
      "│ - Otherwise you may need to report an issue with RCall\n",
      "│ Loading AxisArrays into RCall from project dependency, future warnings for RCall are suppressed.\n",
      "└ @ nothing nothing:840\n"
     ]
    },
    {
     "name": "stdout",
     "output_type": "stream",
     "text": [
      "WARNING: Bandwidth in parameter estimation section of blocklength forced to half total number of observations. Data may contain excessive dependence.\n"
     ]
    },
    {
     "name": "stderr",
     "output_type": "stream",
     "text": [
      "┌ Info: Recompiling stale cache file /Users/davidlittle/.julia/compiled/v1.0/Gadfly/DvECm.ji for Gadfly [c91e804a-d5a3-530f-b6f0-dfbca275c004]\n",
      "└ @ Base loading.jl:1190\n",
      "┌ Info: Loading Cairo backend into Compose.jl\n",
      "└ @ Compose /Users/davidlittle/.julia/packages/Compose/wlPCt/src/Compose.jl:164\n",
      "┌ Info: Loading DataFrames support into Gadfly.jl\n",
      "└ @ Gadfly /Users/davidlittle/.julia/packages/Gadfly/ew1SM/src/mapping.jl:228\n"
     ]
    },
    {
     "data": {
      "text/plain": [
       "\"../data/count_lengths/run_2018-11-26\""
      ]
     },
     "execution_count": 1,
     "metadata": {},
     "output_type": "execute_result"
    }
   ],
   "source": [
    "include(joinpath(\"..\",\"src\",\"setup.jl\"))\n",
    "datadir = joinpath(\"..\",\"data\",\"count_lengths\",\"run_2018-11-26\")"
   ]
  },
  {
   "cell_type": "markdown",
   "metadata": {},
   "source": [
    "# TODO: \n",
    "\n",
    "- work out the parameters to vary\n",
    "- run a simulation"
   ]
  },
  {
   "cell_type": "markdown",
   "metadata": {},
   "source": [
    "## New plans\n",
    "\n",
    "Once that's done I can work on the New Stimuli notebook and check out context. At that point I can see if the same problem with 12st persists, and really get in to the context stimuli."
   ]
  },
  {
   "cell_type": "code",
   "execution_count": 2,
   "metadata": {
    "colab": {},
    "colab_type": "code",
    "id": "vXIb6CK9s0G1"
   },
   "outputs": [
    {
     "data": {
      "text/plain": [
       "Dict{AbstractString,Any} with 9 entries:\n",
       "  \"percept_lengths\" => Dict{AbstractString,Any}(\"threshold\"=>0.2,\"min_length_ms…\n",
       "  \"freqs\"           => Dict{AbstractString,Any}(\"bistable\"=>Dict{AbstractString…\n",
       "  \"mask\"            => Dict{AbstractString,Any}(\"window_ms\"=>500,\"delta_ms\"=>25…\n",
       "  \"rates\"           => Dict{AbstractString,Any}(\"rates_Hz\"=>[2, 4, 8, 16, 32],\"…\n",
       "  \"scales\"          => Dict{AbstractString,Any}(\"bistable\"=>Dict{AbstractString…\n",
       "  \"stimulus\"        => Dict{AbstractString,Any}(\"repeats\"=>100,\"ramp_len_ms\"=>1…\n",
       "  \"track\"           => Dict{AbstractString,Any}(\"bistable\"=>Dict{AbstractString…\n",
       "  \"nmf\"             => Dict{AbstractString,Any}(\"skipframes\"=>0,\"tol\"=>0.001,\"w…\n",
       "  \"bandwidth_ratio\" => Dict{AbstractString,Any}(\"window_ms\"=>800,\"full_band_rat…"
      ]
     },
     "execution_count": 2,
     "metadata": {},
     "output_type": "execute_result"
    }
   ],
   "source": [
    "params = load_params(joinpath(datadir,\"params.jld2\"))\n",
    "params[:pindex] = 1:size(params,1)\n",
    "settings = joinpath(\"..\",\"src\",\"settings.toml\")\n",
    "settings = TOML.parsefile(settings)"
   ]
  },
  {
   "cell_type": "code",
   "execution_count": 3,
   "metadata": {
    "colab": {},
    "colab_type": "code",
    "id": "vXIb6CK9s0G1"
   },
   "outputs": [
    {
     "name": "stderr",
     "output_type": "stream",
     "text": [
      "\u001b[32mProgress: 100%|█████████████████████████████████████████| Time: 0:00:02\u001b[39m\n"
     ]
    },
    {
     "data": {
      "text/html": [
       "<table class=\"data-frame\"><thead><tr><th></th><th>length</th><th>percepts</th><th>created</th><th>pindex</th></tr><tr><th></th><th>Float64</th><th>Int64</th><th>DateTime</th><th>Int64</th></tr></thead><tbody><tr><th>1</th><td>23.3</td><td>1</td><td>2018-11-26T17:38:30.128</td><td>1</td></tr><tr><th>2</th><td>23.3</td><td>1</td><td>2018-11-26T17:40:27.495</td><td>1</td></tr><tr><th>3</th><td>23.3</td><td>1</td><td>2018-11-26T17:40:30.437</td><td>1</td></tr><tr><th>4</th><td>23.3</td><td>1</td><td>2018-11-26T17:40:33.359</td><td>1</td></tr><tr><th>5</th><td>23.3</td><td>1</td><td>2018-11-26T17:40:36.249</td><td>1</td></tr><tr><th>6</th><td>23.3</td><td>1</td><td>2018-11-26T17:40:39.153</td><td>1</td></tr></tbody></table>"
      ],
      "text/latex": [
       "\\begin{tabular}{r|cccc}\n",
       "\t& length & percepts & created & pindex\\\\\n",
       "\t\\hline\n",
       "\t1 & 23.3 & 1 & 2018-11-26T17:38:30.128 & 1 \\\\\n",
       "\t2 & 23.3 & 1 & 2018-11-26T17:40:27.495 & 1 \\\\\n",
       "\t3 & 23.3 & 1 & 2018-11-26T17:40:30.437 & 1 \\\\\n",
       "\t4 & 23.3 & 1 & 2018-11-26T17:40:33.359 & 1 \\\\\n",
       "\t5 & 23.3 & 1 & 2018-11-26T17:40:36.249 & 1 \\\\\n",
       "\t6 & 23.3 & 1 & 2018-11-26T17:40:39.153 & 1 \\\\\n",
       "\\end{tabular}\n"
      ],
      "text/plain": [
       "6×4 DataFrame\n",
       "│ Row │ length  │ percepts │ created                 │ pindex │\n",
       "│     │ \u001b[90mFloat64\u001b[39m │ \u001b[90mInt64\u001b[39m    │ \u001b[90mDateTime\u001b[39m                │ \u001b[90mInt64\u001b[39m  │\n",
       "├─────┼─────────┼──────────┼─────────────────────────┼────────┤\n",
       "│ 1   │ 23.3    │ 1        │ 2018-11-26T17:38:30.128 │ 1      │\n",
       "│ 2   │ 23.3    │ 1        │ 2018-11-26T17:40:27.495 │ 1      │\n",
       "│ 3   │ 23.3    │ 1        │ 2018-11-26T17:40:30.437 │ 1      │\n",
       "│ 4   │ 23.3    │ 1        │ 2018-11-26T17:40:33.359 │ 1      │\n",
       "│ 5   │ 23.3    │ 1        │ 2018-11-26T17:40:36.249 │ 1      │\n",
       "│ 6   │ 23.3    │ 1        │ 2018-11-26T17:40:39.153 │ 1      │"
      ]
     },
     "execution_count": 3,
     "metadata": {},
     "output_type": "execute_result"
    }
   ],
   "source": [
    "results = []\n",
    "for_results_in(joinpath(datadir,\"data\")) do entry\n",
    "  push!(results,DataFrame(length=entry[\"lengths\"],\n",
    "                          percepts=entry[\"percepts\"].+1, # after +1, indicates the number of streams reported, 1 or 2\n",
    "                          created=entry[\"created\"],\n",
    "                          pindex=entry[\"pindex\"])) # the parameter index (pindex = N correspondes to row N of `params`)\n",
    "end\n",
    "df = vcat(results...);\n",
    "head(df)"
   ]
  },
  {
   "cell_type": "markdown",
   "metadata": {},
   "source": [
    "# Object-level build-up"
   ]
  },
  {
   "cell_type": "code",
   "execution_count": 14,
   "metadata": {},
   "outputs": [
    {
     "data": {
      "text/plain": [
       "250"
      ]
     },
     "execution_count": 14,
     "metadata": {},
     "output_type": "execute_result"
    }
   ],
   "source": [
    "settings[\"track\"][\"analyze\"][\"source_prior_sd_bias\"] = [0,2000,0]\n",
    "settings[\"track\"][\"analyze\"][\"source_prior_strength_bias\"] = [0,4000]\n",
    "settings[\"stimulus\"][\"repeats\"] = 30\n",
    "settings[\"min_length_ms\"] = 250"
   ]
  },
  {
   "cell_type": "code",
   "execution_count": 15,
   "metadata": {},
   "outputs": [],
   "source": [
    "p = copy(params[select_params(params,t_c_a=5,t_c_m=5,Δf=6),:])\n",
    "p.t_c_σ = 3.0\n",
    "p.s_c_σ = 1.0\n",
    "run1 = bistable_model(p,settings,intermediate_results=true);"
   ]
  },
  {
   "cell_type": "code",
   "execution_count": 16,
   "metadata": {},
   "outputs": [
    {
     "data": {
      "image/png": "[encoded data removed]"
     },
     "metadata": {},
     "output_type": "display_data"
    },
    {
     "data": {
      "text/plain": [
       "RObject{VecSxp}\n"
      ]
     },
     "execution_count": 16,
     "metadata": {},
     "output_type": "execute_result"
    }
   ],
   "source": [
    "rplot(run1.sources.outweights)"
   ]
  },
  {
   "cell_type": "code",
   "execution_count": 17,
   "metadata": {},
   "outputs": [
    {
     "data": {
      "image/png": "[encoded data removed]"
     },
     "metadata": {},
     "output_type": "display_data"
    },
    {
     "data": {
      "text/plain": [
       "RObject{VecSxp}\n"
      ]
     },
     "execution_count": 17,
     "metadata": {},
     "output_type": "execute_result"
    }
   ],
   "source": [
    "rplot(run1.primary_source)"
   ]
  },
  {
   "cell_type": "code",
   "execution_count": 8,
   "metadata": {},
   "outputs": [],
   "source": [
    "using Logging"
   ]
  },
  {
   "cell_type": "code",
   "execution_count": 18,
   "metadata": {},
   "outputs": [
    {
     "name": "stderr",
     "output_type": "stream",
     "text": [
      "\u001b[32mProgress: 100%|█████████████████████████████████████████| Time: 0:02:30\u001b[39m\n"
     ]
    },
    {
     "data": {
      "text/html": [
       "<table class=\"data-frame\"><thead><tr><th></th><th>length</th><th>response</th><th>run</th></tr><tr><th></th><th>Float64</th><th>Int64</th><th>Int64</th></tr></thead><tbody><tr><th>1</th><td>8.9</td><td>1</td><td>1</td></tr><tr><th>2</th><td>1.5</td><td>2</td><td>1</td></tr><tr><th>3</th><td>2.8</td><td>1</td><td>1</td></tr><tr><th>4</th><td>0.5</td><td>2</td><td>1</td></tr><tr><th>5</th><td>8.4</td><td>1</td><td>2</td></tr><tr><th>6</th><td>1.1</td><td>2</td><td>2</td></tr><tr><th>7</th><td>0.8</td><td>1</td><td>2</td></tr><tr><th>8</th><td>1.6</td><td>2</td><td>2</td></tr><tr><th>9</th><td>1.8</td><td>1</td><td>2</td></tr><tr><th>10</th><td>0.4</td><td>2</td><td>3</td></tr><tr><th>11</th><td>1.7</td><td>1</td><td>3</td></tr><tr><th>12</th><td>2.1</td><td>2</td><td>3</td></tr><tr><th>13</th><td>1.8</td><td>1</td><td>3</td></tr><tr><th>14</th><td>1.6</td><td>2</td><td>3</td></tr><tr><th>15</th><td>5.6</td><td>1</td><td>3</td></tr><tr><th>16</th><td>0.5</td><td>2</td><td>3</td></tr><tr><th>17</th><td>0.4</td><td>2</td><td>4</td></tr><tr><th>18</th><td>3.6</td><td>1</td><td>4</td></tr><tr><th>19</th><td>1.2</td><td>2</td><td>4</td></tr><tr><th>20</th><td>0.3</td><td>1</td><td>4</td></tr><tr><th>21</th><td>1.9</td><td>2</td><td>4</td></tr><tr><th>22</th><td>3.7</td><td>1</td><td>4</td></tr><tr><th>23</th><td>1.7</td><td>2</td><td>4</td></tr><tr><th>24</th><td>0.9</td><td>1</td><td>4</td></tr><tr><th>25</th><td>0.7</td><td>1</td><td>5</td></tr><tr><th>26</th><td>0.6</td><td>2</td><td>5</td></tr><tr><th>27</th><td>0.7</td><td>1</td><td>5</td></tr><tr><th>28</th><td>0.8</td><td>2</td><td>5</td></tr><tr><th>29</th><td>6.1</td><td>1</td><td>5</td></tr><tr><th>30</th><td>2.1</td><td>2</td><td>5</td></tr><tr><th>&vellip;</th><td>&vellip;</td><td>&vellip;</td><td>&vellip;</td></tr></tbody></table>"
      ],
      "text/latex": [
       "\\begin{tabular}{r|ccc}\n",
       "\t& length & response & run\\\\\n",
       "\t\\hline\n",
       "\t1 & 8.9 & 1 & 1 \\\\\n",
       "\t2 & 1.5 & 2 & 1 \\\\\n",
       "\t3 & 2.8 & 1 & 1 \\\\\n",
       "\t4 & 0.5 & 2 & 1 \\\\\n",
       "\t5 & 8.4 & 1 & 2 \\\\\n",
       "\t6 & 1.1 & 2 & 2 \\\\\n",
       "\t7 & 0.8 & 1 & 2 \\\\\n",
       "\t8 & 1.6 & 2 & 2 \\\\\n",
       "\t9 & 1.8 & 1 & 2 \\\\\n",
       "\t10 & 0.4 & 2 & 3 \\\\\n",
       "\t11 & 1.7 & 1 & 3 \\\\\n",
       "\t12 & 2.1 & 2 & 3 \\\\\n",
       "\t13 & 1.8 & 1 & 3 \\\\\n",
       "\t14 & 1.6 & 2 & 3 \\\\\n",
       "\t15 & 5.6 & 1 & 3 \\\\\n",
       "\t16 & 0.5 & 2 & 3 \\\\\n",
       "\t17 & 0.4 & 2 & 4 \\\\\n",
       "\t18 & 3.6 & 1 & 4 \\\\\n",
       "\t19 & 1.2 & 2 & 4 \\\\\n",
       "\t20 & 0.3 & 1 & 4 \\\\\n",
       "\t21 & 1.9 & 2 & 4 \\\\\n",
       "\t22 & 3.7 & 1 & 4 \\\\\n",
       "\t23 & 1.7 & 2 & 4 \\\\\n",
       "\t24 & 0.9 & 1 & 4 \\\\\n",
       "\t25 & 0.7 & 1 & 5 \\\\\n",
       "\t26 & 0.6 & 2 & 5 \\\\\n",
       "\t27 & 0.7 & 1 & 5 \\\\\n",
       "\t28 & 0.8 & 2 & 5 \\\\\n",
       "\t29 & 6.1 & 1 & 5 \\\\\n",
       "\t30 & 2.1 & 2 & 5 \\\\\n",
       "\t31 & 2.7 & 1 & 5 \\\\\n",
       "\t32 & 2.6 & 1 & 6 \\\\\n",
       "\t33 & 1.1 & 2 & 6 \\\\\n",
       "\t34 & 0.8 & 1 & 6 \\\\\n",
       "\t35 & 1.1 & 2 & 6 \\\\\n",
       "\t36 & 0.4 & 1 & 6 \\\\\n",
       "\t37 & 1.1 & 2 & 6 \\\\\n",
       "\t38 & 5.6 & 1 & 6 \\\\\n",
       "\t39 & 0.6 & 2 & 6 \\\\\n",
       "\t40 & 0.4 & 1 & 6 \\\\\n",
       "\t41 & 6.0 & 1 & 7 \\\\\n",
       "\t42 & 0.6 & 2 & 7 \\\\\n",
       "\t43 & 1.7 & 1 & 7 \\\\\n",
       "\t44 & 1.7 & 2 & 7 \\\\\n",
       "\t45 & 1.1 & 1 & 7 \\\\\n",
       "\t46 & 0.3 & 2 & 7 \\\\\n",
       "\t47 & 2.3 & 1 & 7 \\\\\n",
       "\t48 & 0.4 & 2 & 8 \\\\\n",
       "\t49 & 0.3 & 1 & 8 \\\\\n",
       "\t50 & 0.6 & 2 & 8 \\\\\n",
       "\t51 & 0.8 & 1 & 8 \\\\\n",
       "\t52 & 1.1 & 2 & 8 \\\\\n",
       "\t53 & 6.0 & 1 & 8 \\\\\n",
       "\t54 & 0.8 & 2 & 8 \\\\\n",
       "\t55 & 2.7 & 1 & 8 \\\\\n",
       "\t56 & 1.0 & 2 & 8 \\\\\n",
       "\t57 & 0.9 & 2 & 9 \\\\\n",
       "\t58 & 6.5 & 1 & 9 \\\\\n",
       "\t59 & 0.6 & 2 & 9 \\\\\n",
       "\t60 & 0.7 & 1 & 9 \\\\\n",
       "\t61 & 0.3 & 2 & 9 \\\\\n",
       "\t62 & 1.8 & 1 & 9 \\\\\n",
       "\t63 & 2.5 & 2 & 9 \\\\\n",
       "\t64 & 0.4 & 1 & 9 \\\\\n",
       "\t65 & 0.4 & 2 & 10 \\\\\n",
       "\t66 & 0.8 & 1 & 10 \\\\\n",
       "\t67 & 1.1 & 2 & 10 \\\\\n",
       "\t68 & 0.8 & 1 & 10 \\\\\n",
       "\t69 & 0.6 & 2 & 10 \\\\\n",
       "\t70 & 1.2 & 1 & 10 \\\\\n",
       "\t71 & 0.7 & 2 & 10 \\\\\n",
       "\t72 & 8.1 & 1 & 10 \\\\\n",
       "\t73 & 1.5 & 1 & 11 \\\\\n",
       "\t74 & 0.8 & 2 & 11 \\\\\n",
       "\t75 & 0.8 & 1 & 11 \\\\\n",
       "\t76 & 1.1 & 2 & 11 \\\\\n",
       "\t77 & 5.5 & 1 & 11 \\\\\n",
       "\t78 & 1.2 & 2 & 11 \\\\\n",
       "\t79 & 0.3 & 1 & 11 \\\\\n",
       "\t80 & 1.2 & 2 & 11 \\\\\n",
       "\t81 & 1.3 & 1 & 11 \\\\\n",
       "\t82 & 0.4 & 2 & 12 \\\\\n",
       "\t83 & 3.1 & 1 & 12 \\\\\n",
       "\t84 & 1.2 & 2 & 12 \\\\\n",
       "\t85 & 1.6 & 1 & 12 \\\\\n",
       "\t86 & 0.3 & 2 & 12 \\\\\n",
       "\t87 & 3.6 & 1 & 12 \\\\\n",
       "\t88 & 0.7 & 2 & 12 \\\\\n",
       "\t89 & 1.3 & 1 & 12 \\\\\n",
       "\t90 & 0.6 & 2 & 12 \\\\\n",
       "\t91 & 0.9 & 1 & 12 \\\\\n",
       "\t92 & 0.7 & 1 & 13 \\\\\n",
       "\t93 & 0.6 & 2 & 13 \\\\\n",
       "\t94 & 5.1 & 1 & 13 \\\\\n",
       "\t95 & 1.6 & 2 & 13 \\\\\n",
       "\t96 & 2.2 & 1 & 13 \\\\\n",
       "\t97 & 1.2 & 2 & 13 \\\\\n",
       "\t98 & 1.2 & 1 & 13 \\\\\n",
       "\t99 & 0.7 & 2 & 13 \\\\\n",
       "\t100 & 0.4 & 1 & 13 \\\\\n",
       "\t101 & 0.4 & 2 & 14 \\\\\n",
       "\t102 & 0.3 & 1 & 14 \\\\\n",
       "\t103 & 0.6 & 2 & 14 \\\\\n",
       "\t104 & 1.8 & 1 & 14 \\\\\n",
       "\t105 & 1.1 & 2 & 14 \\\\\n",
       "\t106 & 6.1 & 1 & 14 \\\\\n",
       "\t107 & 2.1 & 2 & 14 \\\\\n",
       "\t108 & 1.3 & 1 & 14 \\\\\n",
       "\t109 & 6.4 & 1 & 15 \\\\\n",
       "\t110 & 0.7 & 2 & 15 \\\\\n",
       "\t111 & 4.0 & 1 & 15 \\\\\n",
       "\t112 & 0.8 & 2 & 15 \\\\\n",
       "\t113 & 1.3 & 1 & 15 \\\\\n",
       "\t114 & 0.5 & 2 & 15 \\\\\n",
       "\t115 & 2.5 & 1 & 16 \\\\\n",
       "\t116 & 0.7 & 2 & 16 \\\\\n",
       "\t117 & 1.3 & 1 & 16 \\\\\n",
       "\t118 & 2.1 & 2 & 16 \\\\\n",
       "\t119 & 7.1 & 1 & 16 \\\\\n",
       "\t120 & 0.4 & 2 & 17 \\\\\n",
       "\t121 & 0.8 & 1 & 17 \\\\\n",
       "\t122 & 2.5 & 2 & 17 \\\\\n",
       "\t123 & 1.2 & 1 & 17 \\\\\n",
       "\t124 & 0.8 & 2 & 17 \\\\\n",
       "\t125 & 2.8 & 1 & 17 \\\\\n",
       "\t126 & 1.0 & 2 & 17 \\\\\n",
       "\t127 & 2.6 & 1 & 17 \\\\\n",
       "\t128 & 0.7 & 2 & 17 \\\\\n",
       "\t129 & 0.9 & 1 & 17 \\\\\n",
       "\t130 & 4.5 & 1 & 18 \\\\\n",
       "\t131 & 1.6 & 2 & 18 \\\\\n",
       "\t132 & 1.3 & 1 & 18 \\\\\n",
       "\t133 & 0.6 & 2 & 18 \\\\\n",
       "\t134 & 5.1 & 1 & 18 \\\\\n",
       "\t135 & 0.6 & 2 & 18 \\\\\n",
       "\t136 & 1.5 & 1 & 19 \\\\\n",
       "\t137 & 0.8 & 2 & 19 \\\\\n",
       "\t138 & 0.8 & 1 & 19 \\\\\n",
       "\t139 & 1.1 & 2 & 19 \\\\\n",
       "\t140 & 7.5 & 1 & 19 \\\\\n",
       "\t141 & 2.0 & 2 & 19 \\\\\n",
       "\t142 & 4.4 & 1 & 20 \\\\\n",
       "\t143 & 1.2 & 2 & 20 \\\\\n",
       "\t144 & 5.6 & 1 & 20 \\\\\n",
       "\t145 & 2.5 & 2 & 20 \\\\\n",
       "\t146 & 0.2 & 1 & 21 \\\\\n",
       "\t147 & 1.1 & 2 & 21 \\\\\n",
       "\t148 & 8.4 & 1 & 21 \\\\\n",
       "\t149 & 2.2 & 2 & 21 \\\\\n",
       "\t150 & 0.7 & 1 & 21 \\\\\n",
       "\t151 & 0.8 & 2 & 21 \\\\\n",
       "\t152 & 0.3 & 1 & 21 \\\\\n",
       "\t153 & 0.7 & 1 & 22 \\\\\n",
       "\t154 & 1.1 & 2 & 22 \\\\\n",
       "\t155 & 7.0 & 1 & 22 \\\\\n",
       "\t156 & 0.7 & 2 & 22 \\\\\n",
       "\t157 & 2.7 & 1 & 22 \\\\\n",
       "\t158 & 1.5 & 2 & 22 \\\\\n",
       "\t159 & 0.4 & 2 & 23 \\\\\n",
       "\t160 & 0.3 & 1 & 23 \\\\\n",
       "\t161 & 1.6 & 2 & 23 \\\\\n",
       "\t162 & 4.0 & 1 & 23 \\\\\n",
       "\t163 & 1.3 & 2 & 23 \\\\\n",
       "\t164 & 5.1 & 1 & 23 \\\\\n",
       "\t165 & 0.6 & 2 & 23 \\\\\n",
       "\t166 & 0.4 & 1 & 23 \\\\\n",
       "\t167 & 0.9 & 2 & 24 \\\\\n",
       "\t168 & 0.3 & 1 & 24 \\\\\n",
       "\t169 & 2.1 & 2 & 24 \\\\\n",
       "\t170 & 5.1 & 1 & 24 \\\\\n",
       "\t171 & 2.1 & 2 & 24 \\\\\n",
       "\t172 & 3.2 & 1 & 24 \\\\\n",
       "\t173 & 3.1 & 1 & 25 \\\\\n",
       "\t174 & 0.6 & 2 & 25 \\\\\n",
       "\t175 & 1.3 & 1 & 25 \\\\\n",
       "\t176 & 0.6 & 2 & 25 \\\\\n",
       "\t177 & 0.3 & 1 & 25 \\\\\n",
       "\t178 & 0.7 & 2 & 25 \\\\\n",
       "\t179 & 3.2 & 1 & 25 \\\\\n",
       "\t180 & 1.6 & 2 & 25 \\\\\n",
       "\t181 & 1.3 & 1 & 25 \\\\\n",
       "\t182 & 0.7 & 2 & 25 \\\\\n",
       "\t183 & 0.3 & 1 & 25 \\\\\n",
       "\t184 & 0.7 & 1 & 26 \\\\\n",
       "\t185 & 0.6 & 2 & 26 \\\\\n",
       "\t186 & 8.0 & 1 & 26 \\\\\n",
       "\t187 & 1.1 & 2 & 26 \\\\\n",
       "\t188 & 2.2 & 1 & 26 \\\\\n",
       "\t189 & 1.1 & 2 & 26 \\\\\n",
       "\t190 & 0.4 & 2 & 27 \\\\\n",
       "\t191 & 1.9 & 1 & 27 \\\\\n",
       "\t192 & 1.0 & 2 & 27 \\\\\n",
       "\t193 & 1.7 & 1 & 27 \\\\\n",
       "\t194 & 1.1 & 2 & 27 \\\\\n",
       "\t195 & 2.3 & 1 & 27 \\\\\n",
       "\t196 & 2.0 & 2 & 27 \\\\\n",
       "\t197 & 3.3 & 1 & 27 \\\\\n",
       "\t198 & 1.9 & 2 & 28 \\\\\n",
       "\t199 & 5.4 & 1 & 28 \\\\\n",
       "\t200 & 1.7 & 2 & 28 \\\\\n",
       "\t201 & 0.8 & 1 & 28 \\\\\n",
       "\t202 & 1.1 & 2 & 28 \\\\\n",
       "\t203 & 2.8 & 1 & 28 \\\\\n",
       "\t204 & 0.4 & 2 & 29 \\\\\n",
       "\t205 & 2.6 & 1 & 29 \\\\\n",
       "\t206 & 0.7 & 2 & 29 \\\\\n",
       "\t207 & 4.2 & 1 & 29 \\\\\n",
       "\t208 & 1.6 & 2 & 29 \\\\\n",
       "\t209 & 4.2 & 1 & 29 \\\\\n",
       "\t210 & 0.4 & 2 & 30 \\\\\n",
       "\t211 & 4.6 & 1 & 30 \\\\\n",
       "\t212 & 1.6 & 2 & 30 \\\\\n",
       "\t213 & 0.8 & 1 & 30 \\\\\n",
       "\t214 & 1.1 & 2 & 30 \\\\\n",
       "\t215 & 2.3 & 1 & 30 \\\\\n",
       "\t216 & 0.6 & 2 & 30 \\\\\n",
       "\t217 & 2.3 & 1 & 30 \\\\\n",
       "\t218 & 0.7 & 1 & 31 \\\\\n",
       "\t219 & 0.6 & 2 & 31 \\\\\n",
       "\t220 & 2.8 & 1 & 31 \\\\\n",
       "\t221 & 0.6 & 2 & 31 \\\\\n",
       "\t222 & 2.7 & 1 & 31 \\\\\n",
       "\t223 & 1.1 & 2 & 31 \\\\\n",
       "\t224 & 5.2 & 1 & 31 \\\\\n",
       "\t225 & 3.0 & 1 & 32 \\\\\n",
       "\t226 & 1.2 & 2 & 32 \\\\\n",
       "\t227 & 1.8 & 1 & 32 \\\\\n",
       "\t228 & 2.5 & 2 & 32 \\\\\n",
       "\t229 & 5.2 & 1 & 32 \\\\\n",
       "\t230 & 0.4 & 2 & 33 \\\\\n",
       "\t231 & 1.2 & 1 & 33 \\\\\n",
       "\t232 & 0.7 & 2 & 33 \\\\\n",
       "\t233 & 1.6 & 1 & 33 \\\\\n",
       "\t234 & 1.3 & 2 & 33 \\\\\n",
       "\t235 & 0.8 & 1 & 33 \\\\\n",
       "\t236 & 1.1 & 2 & 33 \\\\\n",
       "\t237 & 5.6 & 1 & 33 \\\\\n",
       "\t238 & 0.7 & 2 & 33 \\\\\n",
       "\t239 & 0.3 & 1 & 33 \\\\\n",
       "\t240 & 0.4 & 2 & 34 \\\\\n",
       "\t241 & 2.1 & 1 & 34 \\\\\n",
       "\t242 & 0.8 & 2 & 34 \\\\\n",
       "\t243 & 8.3 & 1 & 34 \\\\\n",
       "\t244 & 1.7 & 2 & 34 \\\\\n",
       "\t245 & 0.4 & 1 & 34 \\\\\n",
       "\t246 & 0.4 & 2 & 35 \\\\\n",
       "\t247 & 0.3 & 1 & 35 \\\\\n",
       "\t248 & 1.6 & 2 & 35 \\\\\n",
       "\t249 & 7.0 & 1 & 35 \\\\\n",
       "\t250 & 2.1 & 2 & 35 \\\\\n",
       "\t251 & 2.3 & 1 & 35 \\\\\n",
       "\t252 & 0.4 & 2 & 36 \\\\\n",
       "\t253 & 0.3 & 1 & 36 \\\\\n",
       "\t254 & 1.6 & 2 & 36 \\\\\n",
       "\t255 & 1.2 & 1 & 36 \\\\\n",
       "\t256 & 1.2 & 2 & 36 \\\\\n",
       "\t257 & 9.0 & 1 & 36 \\\\\n",
       "\t258 & 0.4 & 2 & 37 \\\\\n",
       "\t259 & 2.2 & 1 & 37 \\\\\n",
       "\t260 & 1.1 & 2 & 37 \\\\\n",
       "\t261 & 1.8 & 1 & 37 \\\\\n",
       "\t262 & 0.6 & 2 & 37 \\\\\n",
       "\t263 & 0.8 & 1 & 37 \\\\\n",
       "\t264 & 1.1 & 2 & 37 \\\\\n",
       "\t265 & 2.8 & 1 & 37 \\\\\n",
       "\t266 & 1.6 & 2 & 37 \\\\\n",
       "\t267 & 1.3 & 1 & 37 \\\\\n",
       "\t268 & 8.8 & 1 & 38 \\\\\n",
       "\t269 & 1.2 & 2 & 38 \\\\\n",
       "\t270 & 0.3 & 1 & 38 \\\\\n",
       "\t271 & 0.6 & 2 & 38 \\\\\n",
       "\t272 & 0.8 & 1 & 38 \\\\\n",
       "\t273 & 1.2 & 2 & 38 \\\\\n",
       "\t274 & 0.3 & 1 & 38 \\\\\n",
       "\t275 & 0.5 & 2 & 38 \\\\\n",
       "\t276 & 5.5 & 1 & 39 \\\\\n",
       "\t277 & 1.7 & 2 & 39 \\\\\n",
       "\t278 & 2.0 & 1 & 39 \\\\\n",
       "\t279 & 0.8 & 2 & 39 \\\\\n",
       "\t280 & 1.3 & 1 & 39 \\\\\n",
       "\t281 & 1.5 & 2 & 39 \\\\\n",
       "\t282 & 0.9 & 1 & 39 \\\\\n",
       "\t283 & 5.0 & 1 & 40 \\\\\n",
       "\t284 & 1.6 & 2 & 40 \\\\\n",
       "\t285 & 7.1 & 1 & 40 \\\\\n",
       "\t286 & 0.4 & 2 & 41 \\\\\n",
       "\t287 & 1.2 & 1 & 41 \\\\\n",
       "\t288 & 1.2 & 2 & 41 \\\\\n",
       "\t289 & 4.6 & 1 & 41 \\\\\n",
       "\t290 & 0.6 & 2 & 41 \\\\\n",
       "\t291 & 1.2 & 1 & 41 \\\\\n",
       "\t292 & 0.8 & 2 & 41 \\\\\n",
       "\t293 & 1.3 & 1 & 41 \\\\\n",
       "\t294 & 1.1 & 2 & 41 \\\\\n",
       "\t295 & 1.3 & 1 & 41 \\\\\n",
       "\t296 & 0.4 & 2 & 42 \\\\\n",
       "\t297 & 4.1 & 1 & 42 \\\\\n",
       "\t298 & 0.7 & 2 & 42 \\\\\n",
       "\t299 & 3.6 & 1 & 42 \\\\\n",
       "\t300 & 0.7 & 2 & 42 \\\\\n",
       "\t301 & 2.6 & 1 & 42 \\\\\n",
       "\t302 & 0.8 & 2 & 42 \\\\\n",
       "\t303 & 0.8 & 1 & 42 \\\\\n",
       "\t304 & 1.2 & 1 & 43 \\\\\n",
       "\t305 & 1.6 & 2 & 43 \\\\\n",
       "\t306 & 6.5 & 1 & 43 \\\\\n",
       "\t307 & 0.7 & 2 & 43 \\\\\n",
       "\t308 & 1.7 & 1 & 43 \\\\\n",
       "\t309 & 2.0 & 2 & 43 \\\\\n",
       "\t310 & 2.6 & 1 & 44 \\\\\n",
       "\t311 & 3.0 & 2 & 44 \\\\\n",
       "\t312 & 7.1 & 1 & 44 \\\\\n",
       "\t313 & 1.0 & 2 & 44 \\\\\n",
       "\t314 & 0.4 & 2 & 45 \\\\\n",
       "\t315 & 0.3 & 1 & 45 \\\\\n",
       "\t316 & 0.6 & 2 & 45 \\\\\n",
       "\t317 & 0.7 & 1 & 45 \\\\\n",
       "\t318 & 0.8 & 2 & 45 \\\\\n",
       "\t319 & 0.3 & 1 & 45 \\\\\n",
       "\t320 & 1.6 & 2 & 45 \\\\\n",
       "\t321 & 2.7 & 1 & 45 \\\\\n",
       "\t322 & 0.7 & 2 & 45 \\\\\n",
       "\t323 & 5.6 & 1 & 45 \\\\\n",
       "\t324 & 3.0 & 1 & 46 \\\\\n",
       "\t325 & 0.7 & 2 & 46 \\\\\n",
       "\t326 & 0.7 & 1 & 46 \\\\\n",
       "\t327 & 0.8 & 2 & 46 \\\\\n",
       "\t328 & 0.3 & 1 & 46 \\\\\n",
       "\t329 & 0.6 & 2 & 46 \\\\\n",
       "\t330 & 6.6 & 1 & 46 \\\\\n",
       "\t331 & 0.7 & 2 & 46 \\\\\n",
       "\t332 & 0.3 & 1 & 46 \\\\\n",
       "\t333 & 1.7 & 1 & 47 \\\\\n",
       "\t334 & 2.0 & 2 & 47 \\\\\n",
       "\t335 & 3.3 & 1 & 47 \\\\\n",
       "\t336 & 1.0 & 2 & 47 \\\\\n",
       "\t337 & 5.7 & 1 & 47 \\\\\n",
       "\t338 & 3.6 & 1 & 48 \\\\\n",
       "\t339 & 0.6 & 2 & 48 \\\\\n",
       "\t340 & 0.8 & 1 & 48 \\\\\n",
       "\t341 & 1.1 & 2 & 48 \\\\\n",
       "\t342 & 1.3 & 1 & 48 \\\\\n",
       "\t343 & 0.6 & 2 & 48 \\\\\n",
       "\t344 & 0.4 & 1 & 48 \\\\\n",
       "\t345 & 2.5 & 2 & 48 \\\\\n",
       "\t346 & 2.8 & 1 & 48 \\\\\n",
       "\t347 & 0.7 & 1 & 49 \\\\\n",
       "\t348 & 0.6 & 2 & 49 \\\\\n",
       "\t349 & 3.6 & 1 & 49 \\\\\n",
       "\t350 & 0.4 & 2 & 49 \\\\\n",
       "\t351 & 1.5 & 1 & 49 \\\\\n",
       "\t352 & 0.8 & 2 & 49 \\\\\n",
       "\t353 & 0.8 & 1 & 49 \\\\\n",
       "\t354 & 3.0 & 2 & 49 \\\\\n",
       "\t355 & 2.3 & 1 & 49 \\\\\n",
       "\t356 & 1.5 & 1 & 50 \\\\\n",
       "\t357 & 0.8 & 2 & 50 \\\\\n",
       "\t358 & 3.7 & 1 & 50 \\\\\n",
       "\t359 & 2.5 & 2 & 50 \\\\\n",
       "\t360 & 1.3 & 1 & 50 \\\\\n",
       "\t361 & 2.6 & 2 & 50 \\\\\n",
       "\t362 & 1.3 & 1 & 50 \\\\\n",
       "\t363 & 0.4 & 2 & 51 \\\\\n",
       "\t364 & 1.1 & 1 & 51 \\\\\n",
       "\t365 & 1.7 & 2 & 51 \\\\\n",
       "\t366 & 7.0 & 1 & 51 \\\\\n",
       "\t367 & 0.7 & 2 & 51 \\\\\n",
       "\t368 & 0.4 & 1 & 51 \\\\\n",
       "\t369 & 0.9 & 2 & 51 \\\\\n",
       "\t370 & 1.5 & 1 & 51 \\\\\n",
       "\t371 & 2.1 & 1 & 52 \\\\\n",
       "\t372 & 1.6 & 2 & 52 \\\\\n",
       "\t373 & 2.3 & 1 & 52 \\\\\n",
       "\t374 & 0.6 & 2 & 52 \\\\\n",
       "\t375 & 7.1 & 1 & 52 \\\\\n",
       "\t376 & 0.7 & 1 & 53 \\\\\n",
       "\t377 & 1.2 & 2 & 53 \\\\\n",
       "\t378 & 0.7 & 1 & 53 \\\\\n",
       "\t379 & 1.1 & 2 & 53 \\\\\n",
       "\t380 & 10.0 & 1 & 53 \\\\\n",
       "\t381 & 0.7 & 1 & 54 \\\\\n",
       "\t382 & 2.1 & 2 & 54 \\\\\n",
       "\t383 & 0.9 & 1 & 54 \\\\\n",
       "\t384 & 0.4 & 2 & 54 \\\\\n",
       "\t385 & 3.4 & 1 & 54 \\\\\n",
       "\t386 & 0.4 & 2 & 54 \\\\\n",
       "\t387 & 1.4 & 1 & 54 \\\\\n",
       "\t388 & 2.0 & 2 & 54 \\\\\n",
       "\t389 & 2.4 & 1 & 54 \\\\\n",
       "\t390 & 4.1 & 1 & 55 \\\\\n",
       "\t391 & 2.0 & 2 & 55 \\\\\n",
       "\t392 & 6.6 & 1 & 55 \\\\\n",
       "\t393 & 0.6 & 2 & 55 \\\\\n",
       "\t394 & 0.4 & 1 & 55 \\\\\n",
       "\t395 & 3.1 & 1 & 56 \\\\\n",
       "\t396 & 1.1 & 2 & 56 \\\\\n",
       "\t397 & 2.6 & 1 & 56 \\\\\n",
       "\t398 & 0.8 & 2 & 56 \\\\\n",
       "\t399 & 0.3 & 1 & 56 \\\\\n",
       "\t400 & 1.1 & 2 & 56 \\\\\n",
       "\t401 & 4.2 & 1 & 56 \\\\\n",
       "\t402 & 0.5 & 2 & 56 \\\\\n",
       "\t403 & 0.4 & 2 & 57 \\\\\n",
       "\t404 & 2.2 & 1 & 57 \\\\\n",
       "\t405 & 1.1 & 2 & 57 \\\\\n",
       "\t406 & 1.7 & 1 & 57 \\\\\n",
       "\t407 & 0.7 & 2 & 57 \\\\\n",
       "\t408 & 2.6 & 1 & 57 \\\\\n",
       "\t409 & 0.3 & 2 & 57 \\\\\n",
       "\t410 & 4.2 & 1 & 57 \\\\\n",
       "\t411 & 0.5 & 2 & 57 \\\\\n",
       "\t412 & 1.2 & 1 & 58 \\\\\n",
       "\t413 & 0.5 & 2 & 58 \\\\\n",
       "\t414 & 0.9 & 1 & 58 \\\\\n",
       "\t415 & 1.6 & 2 & 58 \\\\\n",
       "\t416 & 3.2 & 1 & 58 \\\\\n",
       "\t417 & 1.6 & 2 & 58 \\\\\n",
       "\t418 & 3.2 & 1 & 58 \\\\\n",
       "\t419 & 0.6 & 2 & 58 \\\\\n",
       "\t420 & 0.9 & 1 & 58 \\\\\n",
       "\t421 & 0.4 & 2 & 59 \\\\\n",
       "\t422 & 3.2 & 1 & 59 \\\\\n",
       "\t423 & 1.1 & 2 & 59 \\\\\n",
       "\t424 & 2.6 & 1 & 59 \\\\\n",
       "\t425 & 1.8 & 2 & 59 \\\\\n",
       "\t426 & 3.6 & 1 & 59 \\\\\n",
       "\t427 & 1.0 & 2 & 59 \\\\\n",
       "\t428 & 1.2 & 1 & 60 \\\\\n",
       "\t429 & 1.2 & 2 & 60 \\\\\n",
       "\t430 & 0.7 & 1 & 60 \\\\\n",
       "\t431 & 1.7 & 2 & 60 \\\\\n",
       "\t432 & 1.2 & 1 & 60 \\\\\n",
       "\t433 & 1.6 & 2 & 60 \\\\\n",
       "\t434 & 4.6 & 1 & 60 \\\\\n",
       "\t435 & 1.5 & 2 & 60 \\\\\n",
       "\t436 & 3.1 & 1 & 61 \\\\\n",
       "\t437 & 0.6 & 2 & 61 \\\\\n",
       "\t438 & 1.2 & 1 & 61 \\\\\n",
       "\t439 & 2.7 & 2 & 61 \\\\\n",
       "\t440 & 3.7 & 1 & 61 \\\\\n",
       "\t441 & 2.0 & 2 & 61 \\\\\n",
       "\t442 & 0.4 & 1 & 61 \\\\\n",
       "\t443 & 0.4 & 2 & 62 \\\\\n",
       "\t444 & 5.6 & 1 & 62 \\\\\n",
       "\t445 & 3.0 & 2 & 62 \\\\\n",
       "\t446 & 4.7 & 1 & 62 \\\\\n",
       "\t447 & 0.4 & 2 & 63 \\\\\n",
       "\t448 & 0.3 & 1 & 63 \\\\\n",
       "\t449 & 1.1 & 2 & 63 \\\\\n",
       "\t450 & 2.3 & 1 & 63 \\\\\n",
       "\t451 & 1.1 & 2 & 63 \\\\\n",
       "\t452 & 0.8 & 1 & 63 \\\\\n",
       "\t453 & 1.1 & 2 & 63 \\\\\n",
       "\t454 & 0.7 & 1 & 63 \\\\\n",
       "\t455 & 1.7 & 2 & 63 \\\\\n",
       "\t456 & 4.2 & 1 & 63 \\\\\n",
       "\t457 & 0.4 & 2 & 64 \\\\\n",
       "\t458 & 7.5 & 1 & 64 \\\\\n",
       "\t459 & 0.6 & 2 & 64 \\\\\n",
       "\t460 & 0.7 & 1 & 64 \\\\\n",
       "\t461 & 1.7 & 2 & 64 \\\\\n",
       "\t462 & 2.8 & 1 & 64 \\\\\n",
       "\t463 & 2.3 & 2 & 65 \\\\\n",
       "\t464 & 6.1 & 1 & 65 \\\\\n",
       "\t465 & 2.5 & 2 & 65 \\\\\n",
       "\t466 & 2.8 & 1 & 65 \\\\\n",
       "\t467 & 0.4 & 2 & 66 \\\\\n",
       "\t468 & 3.1 & 1 & 66 \\\\\n",
       "\t469 & 0.7 & 2 & 66 \\\\\n",
       "\t470 & 4.6 & 1 & 66 \\\\\n",
       "\t471 & 0.7 & 2 & 66 \\\\\n",
       "\t472 & 1.3 & 1 & 66 \\\\\n",
       "\t473 & 1.1 & 2 & 66 \\\\\n",
       "\t474 & 1.3 & 1 & 66 \\\\\n",
       "\t475 & 0.5 & 2 & 66 \\\\\n",
       "\t476 & 6.5 & 1 & 67 \\\\\n",
       "\t477 & 1.1 & 2 & 67 \\\\\n",
       "\t478 & 5.1 & 1 & 67 \\\\\n",
       "\t479 & 1.0 & 2 & 67 \\\\\n",
       "\t480 & 3.6 & 1 & 68 \\\\\n",
       "\t481 & 0.6 & 2 & 68 \\\\\n",
       "\t482 & 2.1 & 1 & 68 \\\\\n",
       "\t483 & 2.2 & 2 & 68 \\\\\n",
       "\t484 & 0.9 & 1 & 68 \\\\\n",
       "\t485 & 0.7 & 2 & 68 \\\\\n",
       "\t486 & 1.1 & 1 & 68 \\\\\n",
       "\t487 & 1.8 & 2 & 68 \\\\\n",
       "\t488 & 0.7 & 1 & 68 \\\\\n",
       "\t489 & 2.6 & 1 & 69 \\\\\n",
       "\t490 & 2.1 & 2 & 69 \\\\\n",
       "\t491 & 2.2 & 1 & 69 \\\\\n",
       "\t492 & 0.7 & 2 & 69 \\\\\n",
       "\t493 & 1.1 & 1 & 69 \\\\\n",
       "\t494 & 0.9 & 2 & 69 \\\\\n",
       "\t495 & 4.1 & 1 & 69 \\\\\n",
       "\t496 & 0.4 & 2 & 70 \\\\\n",
       "\t497 & 3.2 & 1 & 70 \\\\\n",
       "\t498 & 1.6 & 2 & 70 \\\\\n",
       "\t499 & 2.7 & 1 & 70 \\\\\n",
       "\t500 & 1.1 & 2 & 70 \\\\\n",
       "\t501 & 2.7 & 1 & 70 \\\\\n",
       "\t502 & 1.1 & 2 & 70 \\\\\n",
       "\t503 & 0.9 & 1 & 70 \\\\\n",
       "\t504 & 0.4 & 2 & 71 \\\\\n",
       "\t505 & 0.8 & 1 & 71 \\\\\n",
       "\t506 & 0.6 & 2 & 71 \\\\\n",
       "\t507 & 2.3 & 1 & 71 \\\\\n",
       "\t508 & 1.5 & 2 & 71 \\\\\n",
       "\t509 & 0.4 & 1 & 71 \\\\\n",
       "\t510 & 1.1 & 2 & 71 \\\\\n",
       "\t511 & 3.2 & 1 & 71 \\\\\n",
       "\t512 & 0.6 & 2 & 71 \\\\\n",
       "\t513 & 1.2 & 1 & 71 \\\\\n",
       "\t514 & 0.7 & 2 & 71 \\\\\n",
       "\t515 & 0.9 & 1 & 71 \\\\\n",
       "\t516 & 0.4 & 2 & 72 \\\\\n",
       "\t517 & 3.2 & 1 & 72 \\\\\n",
       "\t518 & 2.1 & 2 & 72 \\\\\n",
       "\t519 & 3.0 & 1 & 72 \\\\\n",
       "\t520 & 0.4 & 2 & 72 \\\\\n",
       "\t521 & 3.5 & 1 & 72 \\\\\n",
       "\t522 & 0.7 & 2 & 72 \\\\\n",
       "\t523 & 0.4 & 1 & 72 \\\\\n",
       "\t524 & 2.5 & 1 & 73 \\\\\n",
       "\t525 & 0.7 & 2 & 73 \\\\\n",
       "\t526 & 5.2 & 1 & 73 \\\\\n",
       "\t527 & 1.6 & 2 & 73 \\\\\n",
       "\t528 & 0.7 & 1 & 73 \\\\\n",
       "\t529 & 0.7 & 2 & 73 \\\\\n",
       "\t530 & 1.8 & 1 & 73 \\\\\n",
       "\t531 & 0.5 & 2 & 73 \\\\\n",
       "\t532 & 0.7 & 1 & 74 \\\\\n",
       "\t533 & 0.7 & 2 & 74 \\\\\n",
       "\t534 & 1.7 & 1 & 74 \\\\\n",
       "\t535 & 1.6 & 2 & 74 \\\\\n",
       "\t536 & 2.2 & 1 & 74 \\\\\n",
       "\t537 & 0.7 & 2 & 74 \\\\\n",
       "\t538 & 4.0 & 1 & 74 \\\\\n",
       "\t539 & 0.3 & 2 & 74 \\\\\n",
       "\t540 & 1.8 & 1 & 74 \\\\\n",
       "\t541 & 0.4 & 2 & 75 \\\\\n",
       "\t542 & 0.3 & 1 & 75 \\\\\n",
       "\t543 & 0.7 & 2 & 75 \\\\\n",
       "\t544 & 3.5 & 1 & 75 \\\\\n",
       "\t545 & 0.7 & 2 & 75 \\\\\n",
       "\t546 & 4.2 & 1 & 75 \\\\\n",
       "\t547 & 1.6 & 2 & 75 \\\\\n",
       "\t548 & 0.7 & 1 & 75 \\\\\n",
       "\t549 & 0.7 & 2 & 75 \\\\\n",
       "\t550 & 0.9 & 1 & 75 \\\\\n",
       "\t551 & 0.1 & 1 & 76 \\\\\n",
       "\t552 & 0.3 & 2 & 76 \\\\\n",
       "\t553 & 3.7 & 1 & 76 \\\\\n",
       "\t554 & 2.5 & 2 & 76 \\\\\n",
       "\t555 & 1.7 & 1 & 76 \\\\\n",
       "\t556 & 1.2 & 2 & 76 \\\\\n",
       "\t557 & 4.2 & 1 & 76 \\\\\n",
       "\t558 & 2.1 & 1 & 77 \\\\\n",
       "\t559 & 3.1 & 2 & 77 \\\\\n",
       "\t560 & 1.6 & 1 & 77 \\\\\n",
       "\t561 & 0.3 & 2 & 77 \\\\\n",
       "\t562 & 1.8 & 1 & 77 \\\\\n",
       "\t563 & 1.1 & 2 & 77 \\\\\n",
       "\t564 & 0.8 & 1 & 77 \\\\\n",
       "\t565 & 0.6 & 2 & 77 \\\\\n",
       "\t566 & 2.3 & 1 & 77 \\\\\n",
       "\t567 & 1.8 & 2 & 78 \\\\\n",
       "\t568 & 8.0 & 1 & 78 \\\\\n",
       "\t569 & 1.6 & 2 & 78 \\\\\n",
       "\t570 & 0.8 & 1 & 78 \\\\\n",
       "\t571 & 0.6 & 2 & 78 \\\\\n",
       "\t572 & 0.9 & 1 & 78 \\\\\n",
       "\t573 & 0.8 & 2 & 79 \\\\\n",
       "\t574 & 0.4 & 1 & 79 \\\\\n",
       "\t575 & 2.0 & 2 & 79 \\\\\n",
       "\t576 & 1.2 & 1 & 79 \\\\\n",
       "\t577 & 0.6 & 2 & 79 \\\\\n",
       "\t578 & 5.8 & 1 & 79 \\\\\n",
       "\t579 & 0.7 & 2 & 79 \\\\\n",
       "\t580 & 1.2 & 1 & 79 \\\\\n",
       "\t581 & 0.7 & 2 & 79 \\\\\n",
       "\t582 & 0.3 & 1 & 79 \\\\\n",
       "\t583 & 6.0 & 1 & 80 \\\\\n",
       "\t584 & 0.6 & 2 & 80 \\\\\n",
       "\t585 & 0.8 & 1 & 80 \\\\\n",
       "\t586 & 3.5 & 2 & 80 \\\\\n",
       "\t587 & 0.7 & 1 & 80 \\\\\n",
       "\t588 & 0.8 & 2 & 80 \\\\\n",
       "\t589 & 1.3 & 1 & 80 \\\\\n",
       "\t590 & 3.1 & 1 & 81 \\\\\n",
       "\t591 & 1.6 & 2 & 81 \\\\\n",
       "\t592 & 3.2 & 1 & 81 \\\\\n",
       "\t593 & 1.1 & 2 & 81 \\\\\n",
       "\t594 & 3.2 & 1 & 81 \\\\\n",
       "\t595 & 0.6 & 2 & 81 \\\\\n",
       "\t596 & 0.9 & 1 & 81 \\\\\n",
       "\t597 & 0.4 & 2 & 82 \\\\\n",
       "\t598 & 1.2 & 1 & 82 \\\\\n",
       "\t599 & 1.2 & 2 & 82 \\\\\n",
       "\t600 & 0.8 & 1 & 82 \\\\\n",
       "\t601 & 1.6 & 2 & 82 \\\\\n",
       "\t602 & 3.2 & 1 & 82 \\\\\n",
       "\t603 & 1.1 & 2 & 82 \\\\\n",
       "\t604 & 4.2 & 1 & 82 \\\\\n",
       "\t605 & 4.5 & 1 & 83 \\\\\n",
       "\t606 & 0.6 & 2 & 83 \\\\\n",
       "\t607 & 0.4 & 1 & 83 \\\\\n",
       "\t608 & 0.8 & 2 & 83 \\\\\n",
       "\t609 & 3.0 & 1 & 83 \\\\\n",
       "\t610 & 1.6 & 2 & 83 \\\\\n",
       "\t611 & 1.2 & 1 & 83 \\\\\n",
       "\t612 & 0.3 & 2 & 83 \\\\\n",
       "\t613 & 1.3 & 1 & 83 \\\\\n",
       "\t614 & 3.6 & 1 & 84 \\\\\n",
       "\t615 & 0.6 & 2 & 84 \\\\\n",
       "\t616 & 0.3 & 1 & 84 \\\\\n",
       "\t617 & 1.1 & 2 & 84 \\\\\n",
       "\t618 & 3.2 & 1 & 84 \\\\\n",
       "\t619 & 0.7 & 2 & 84 \\\\\n",
       "\t620 & 1.6 & 1 & 84 \\\\\n",
       "\t621 & 0.8 & 2 & 84 \\\\\n",
       "\t622 & 1.8 & 1 & 84 \\\\\n",
       "\t623 & 1.5 & 1 & 85 \\\\\n",
       "\t624 & 1.3 & 2 & 85 \\\\\n",
       "\t625 & 3.1 & 1 & 85 \\\\\n",
       "\t626 & 0.3 & 2 & 85 \\\\\n",
       "\t627 & 1.1 & 1 & 85 \\\\\n",
       "\t628 & 0.8 & 2 & 85 \\\\\n",
       "\t629 & 0.7 & 1 & 85 \\\\\n",
       "\t630 & 2.1 & 2 & 85 \\\\\n",
       "\t631 & 2.8 & 1 & 85 \\\\\n",
       "\t632 & 4.1 & 1 & 86 \\\\\n",
       "\t633 & 0.6 & 2 & 86 \\\\\n",
       "\t634 & 2.1 & 1 & 86 \\\\\n",
       "\t635 & 1.7 & 2 & 86 \\\\\n",
       "\t636 & 3.2 & 1 & 86 \\\\\n",
       "\t637 & 1.6 & 2 & 86 \\\\\n",
       "\t638 & 0.4 & 1 & 86 \\\\\n",
       "\t639 & 0.8 & 2 & 87 \\\\\n",
       "\t640 & 7.0 & 1 & 87 \\\\\n",
       "\t641 & 1.7 & 2 & 87 \\\\\n",
       "\t642 & 1.3 & 1 & 87 \\\\\n",
       "\t643 & 1.0 & 2 & 87 \\\\\n",
       "\t644 & 0.9 & 1 & 87 \\\\\n",
       "\t645 & 1.0 & 2 & 87 \\\\\n",
       "\t646 & 0.4 & 2 & 88 \\\\\n",
       "\t647 & 0.3 & 1 & 88 \\\\\n",
       "\t648 & 1.1 & 2 & 88 \\\\\n",
       "\t649 & 3.7 & 1 & 88 \\\\\n",
       "\t650 & 0.6 & 2 & 88 \\\\\n",
       "\t651 & 0.7 & 1 & 88 \\\\\n",
       "\t652 & 0.8 & 2 & 88 \\\\\n",
       "\t653 & 1.6 & 1 & 88 \\\\\n",
       "\t654 & 0.8 & 2 & 88 \\\\\n",
       "\t655 & 3.7 & 1 & 88 \\\\\n",
       "\t656 & 1.5 & 1 & 89 \\\\\n",
       "\t657 & 1.8 & 2 & 89 \\\\\n",
       "\t658 & 4.0 & 1 & 89 \\\\\n",
       "\t659 & 0.7 & 2 & 89 \\\\\n",
       "\t660 & 3.1 & 1 & 89 \\\\\n",
       "\t661 & 0.3 & 2 & 89 \\\\\n",
       "\t662 & 1.8 & 1 & 89 \\\\\n",
       "\t663 & 0.5 & 2 & 89 \\\\\n",
       "\t664 & 0.4 & 2 & 90 \\\\\n",
       "\t665 & 0.6 & 1 & 90 \\\\\n",
       "\t666 & 2.8 & 2 & 90 \\\\\n",
       "\t667 & 1.7 & 1 & 90 \\\\\n",
       "\t668 & 0.6 & 2 & 90 \\\\\n",
       "\t669 & 0.7 & 1 & 90 \\\\\n",
       "\t670 & 0.3 & 2 & 90 \\\\\n",
       "\t671 & 6.6 & 1 & 90 \\\\\n",
       "\t672 & 2.1 & 1 & 91 \\\\\n",
       "\t673 & 4.1 & 2 & 91 \\\\\n",
       "\t674 & 7.5 & 1 & 91 \\\\\n",
       "\t675 & 1.1 & 1 & 92 \\\\\n",
       "\t676 & 1.7 & 2 & 92 \\\\\n",
       "\t677 & 3.5 & 1 & 92 \\\\\n",
       "\t678 & 1.3 & 2 & 92 \\\\\n",
       "\t679 & 1.2 & 1 & 92 \\\\\n",
       "\t680 & 0.6 & 2 & 92 \\\\\n",
       "\t681 & 4.3 & 1 & 92 \\\\\n",
       "\t682 & 6.4 & 1 & 93 \\\\\n",
       "\t683 & 0.7 & 2 & 93 \\\\\n",
       "\t684 & 2.1 & 1 & 93 \\\\\n",
       "\t685 & 0.3 & 2 & 93 \\\\\n",
       "\t686 & 0.8 & 1 & 93 \\\\\n",
       "\t687 & 1.1 & 2 & 93 \\\\\n",
       "\t688 & 2.3 & 1 & 93 \\\\\n",
       "\t689 & 5.4 & 1 & 94 \\\\\n",
       "\t690 & 0.7 & 2 & 94 \\\\\n",
       "\t691 & 3.6 & 1 & 94 \\\\\n",
       "\t692 & 1.8 & 2 & 94 \\\\\n",
       "\t693 & 1.6 & 1 & 94 \\\\\n",
       "\t694 & 0.6 & 2 & 94 \\\\\n",
       "\t695 & 0.4 & 2 & 95 \\\\\n",
       "\t696 & 0.8 & 1 & 95 \\\\\n",
       "\t697 & 2.0 & 2 & 95 \\\\\n",
       "\t698 & 1.8 & 1 & 95 \\\\\n",
       "\t699 & 0.6 & 2 & 95 \\\\\n",
       "\t700 & 2.8 & 1 & 95 \\\\\n",
       "\t701 & 1.1 & 2 & 95 \\\\\n",
       "\t702 & 1.3 & 1 & 95 \\\\\n",
       "\t703 & 1.1 & 2 & 95 \\\\\n",
       "\t704 & 1.8 & 1 & 95 \\\\\n",
       "\t705 & 3.6 & 1 & 96 \\\\\n",
       "\t706 & 0.6 & 2 & 96 \\\\\n",
       "\t707 & 1.3 & 1 & 96 \\\\\n",
       "\t708 & 0.7 & 2 & 96 \\\\\n",
       "\t709 & 0.7 & 1 & 96 \\\\\n",
       "\t710 & 1.2 & 2 & 96 \\\\\n",
       "\t711 & 2.2 & 1 & 96 \\\\\n",
       "\t712 & 1.2 & 2 & 96 \\\\\n",
       "\t713 & 2.2 & 1 & 96 \\\\\n",
       "\t714 & 0.4 & 2 & 97 \\\\\n",
       "\t715 & 2.2 & 1 & 97 \\\\\n",
       "\t716 & 1.1 & 2 & 97 \\\\\n",
       "\t717 & 0.7 & 1 & 97 \\\\\n",
       "\t718 & 1.2 & 2 & 97 \\\\\n",
       "\t719 & 1.2 & 1 & 97 \\\\\n",
       "\t720 & 0.4 & 2 & 97 \\\\\n",
       "\t721 & 5.5 & 1 & 97 \\\\\n",
       "\t722 & 0.6 & 2 & 97 \\\\\n",
       "\t723 & 0.4 & 1 & 97 \\\\\n",
       "\t724 & 0.4 & 2 & 98 \\\\\n",
       "\t725 & 1.7 & 1 & 98 \\\\\n",
       "\t726 & 1.5 & 2 & 98 \\\\\n",
       "\t727 & 2.8 & 1 & 98 \\\\\n",
       "\t728 & 0.8 & 2 & 98 \\\\\n",
       "\t729 & 4.7 & 1 & 98 \\\\\n",
       "\t730 & 0.6 & 2 & 98 \\\\\n",
       "\t731 & 1.2 & 1 & 98 \\\\\n",
       "\t732 & 0.4 & 2 & 99 \\\\\n",
       "\t733 & 0.3 & 1 & 99 \\\\\n",
       "\t734 & 1.1 & 2 & 99 \\\\\n",
       "\t735 & 0.8 & 1 & 99 \\\\\n",
       "\t736 & 0.6 & 2 & 99 \\\\\n",
       "\t737 & 3.3 & 1 & 99 \\\\\n",
       "\t738 & 1.5 & 2 & 99 \\\\\n",
       "\t739 & 2.3 & 1 & 99 \\\\\n",
       "\t740 & 0.6 & 2 & 99 \\\\\n",
       "\t741 & 2.3 & 1 & 99 \\\\\n",
       "\t742 & 0.5 & 2 & 99 \\\\\n",
       "\t743 & 1.2 & 1 & 100 \\\\\n",
       "\t744 & 1.1 & 2 & 100 \\\\\n",
       "\t745 & 3.1 & 1 & 100 \\\\\n",
       "\t746 & 0.7 & 2 & 100 \\\\\n",
       "\t747 & 0.4 & 1 & 100 \\\\\n",
       "\t748 & 1.5 & 2 & 100 \\\\\n",
       "\t749 & 5.7 & 1 & 100 \\\\\n",
       "\\end{tabular}\n"
      ],
      "text/plain": [
       "749×3 DataFrame\n",
       "│ Row │ length  │ response │ run   │\n",
       "│     │ \u001b[90mFloat64\u001b[39m │ \u001b[90mInt64\u001b[39m    │ \u001b[90mInt64\u001b[39m │\n",
       "├─────┼─────────┼──────────┼───────┤\n",
       "│ 1   │ 8.9     │ 1        │ 1     │\n",
       "│ 2   │ 1.5     │ 2        │ 1     │\n",
       "│ 3   │ 2.8     │ 1        │ 1     │\n",
       "│ 4   │ 0.5     │ 2        │ 1     │\n",
       "│ 5   │ 8.4     │ 1        │ 2     │\n",
       "│ 6   │ 1.1     │ 2        │ 2     │\n",
       "│ 7   │ 0.8     │ 1        │ 2     │\n",
       "│ 8   │ 1.6     │ 2        │ 2     │\n",
       "│ 9   │ 1.8     │ 1        │ 2     │\n",
       "│ 10  │ 0.4     │ 2        │ 3     │\n",
       "⋮\n",
       "│ 739 │ 2.3     │ 1        │ 99    │\n",
       "│ 740 │ 0.6     │ 2        │ 99    │\n",
       "│ 741 │ 2.3     │ 1        │ 99    │\n",
       "│ 742 │ 0.5     │ 2        │ 99    │\n",
       "│ 743 │ 1.2     │ 1        │ 100   │\n",
       "│ 744 │ 1.1     │ 2        │ 100   │\n",
       "│ 745 │ 3.1     │ 1        │ 100   │\n",
       "│ 746 │ 0.7     │ 2        │ 100   │\n",
       "│ 747 │ 0.4     │ 1        │ 100   │\n",
       "│ 748 │ 1.5     │ 2        │ 100   │\n",
       "│ 749 │ 5.7     │ 1        │ 100   │"
      ]
     },
     "execution_count": 18,
     "metadata": {},
     "output_type": "execute_result"
    }
   ],
   "source": [
    "result = []\n",
    "p = copy(params[select_params(params,t_c_a=5,t_c_m=5,Δf=6),:])\n",
    "p.t_c_σ = 3.0\n",
    "p.s_c_σ = 1.0\n",
    "@showprogress for i in 1:100\n",
    "    with_logger(NullLogger()) do\n",
    "        len,val = bistable_model(p,settings,intermediate_results=true).percepts.counts\n",
    "        push!(result,DataFrame(length=len,response=val.+1,run=i))\n",
    "    end\n",
    "end\n",
    "buildup = vcat(result...)"
   ]
  },
  {
   "cell_type": "code",
   "execution_count": 19,
   "metadata": {},
   "outputs": [
    {
     "data": {
      "text/html": [
       "<table class=\"data-frame\"><thead><tr><th></th><th>length</th><th>response</th><th>run</th></tr><tr><th></th><th>Float64</th><th>Int64</th><th>Int64</th></tr></thead><tbody><tr><th>1</th><td>8.9</td><td>1</td><td>1</td></tr><tr><th>2</th><td>1.5</td><td>2</td><td>1</td></tr><tr><th>3</th><td>2.8</td><td>1</td><td>1</td></tr><tr><th>4</th><td>0.5</td><td>2</td><td>1</td></tr><tr><th>5</th><td>8.4</td><td>1</td><td>2</td></tr><tr><th>6</th><td>1.1</td><td>2</td><td>2</td></tr></tbody></table>"
      ],
      "text/latex": [
       "\\begin{tabular}{r|ccc}\n",
       "\t& length & response & run\\\\\n",
       "\t\\hline\n",
       "\t1 & 8.9 & 1 & 1 \\\\\n",
       "\t2 & 1.5 & 2 & 1 \\\\\n",
       "\t3 & 2.8 & 1 & 1 \\\\\n",
       "\t4 & 0.5 & 2 & 1 \\\\\n",
       "\t5 & 8.4 & 1 & 2 \\\\\n",
       "\t6 & 1.1 & 2 & 2 \\\\\n",
       "\\end{tabular}\n"
      ],
      "text/plain": [
       "6×3 DataFrame\n",
       "│ Row │ length  │ response │ run   │\n",
       "│     │ \u001b[90mFloat64\u001b[39m │ \u001b[90mInt64\u001b[39m    │ \u001b[90mInt64\u001b[39m │\n",
       "├─────┼─────────┼──────────┼───────┤\n",
       "│ 1   │ 8.9     │ 1        │ 1     │\n",
       "│ 2   │ 1.5     │ 2        │ 1     │\n",
       "│ 3   │ 2.8     │ 1        │ 1     │\n",
       "│ 4   │ 0.5     │ 2        │ 1     │\n",
       "│ 5   │ 8.4     │ 1        │ 2     │\n",
       "│ 6   │ 1.1     │ 2        │ 2     │"
      ]
     },
     "execution_count": 19,
     "metadata": {},
     "output_type": "execute_result"
    }
   ],
   "source": [
    "head(buildup)"
   ]
  },
  {
   "cell_type": "code",
   "execution_count": null,
   "metadata": {},
   "outputs": [],
   "source": [
    "# current: trying out a stronger prior to see if that changes that build-up rate"
   ]
  },
  {
   "cell_type": "code",
   "execution_count": 20,
   "metadata": {},
   "outputs": [],
   "source": [
    "sdf = buildup_mean(buildup,delta=0.24,length=14);"
   ]
  },
  {
   "cell_type": "code",
   "execution_count": 21,
   "metadata": {},
   "outputs": [
    {
     "data": {
      "image/png": "[encoded data removed]",
      "text/plain": [
       "Compose.Image{Compose.PNGBackend}(IOBuffer(data=UInt8[...], readable=true, writable=true, seekable=true, append=false, size=19345, maxsize=Inf, ptr=19346, mark=-1), Cairo.CairoSurfaceBase{UInt32}(Ptr{Nothing} @0x0000000000000000, 576.0, 288.0), Cairo.CairoContext(Ptr{Nothing} @0x0000000000000000, Cairo.CairoSurfaceBase{UInt32}(Ptr{Nothing} @0x0000000000000000, 576.0, 288.0), Ptr{Nothing} @0x00007fc8b0a0e990), 576.0, 288.0, RGBA{Float64}(0.0,0.0,0.0,0.0), RGBA{Float64}(0.0,0.0,0.0,1.0), Float64[], Compose.LineCapButt(), Compose.LineJoinMiter(), true, 0.3mm, 3.880555555555555mm, \"Helvetica Neue,Helvetica,Arial,sans\", nothing, false, Compose.ImagePropertyState[], Compose.ImagePropertyFrame[], Dict{Type,Union{Nothing, Property}}(), true, false, nothing, true, true, 3.7795275590551185, nothing, nothing)"
      ]
     },
     "metadata": {},
     "output_type": "display_data"
    },
    {
     "data": {
      "text/plain": [
       "false"
      ]
     },
     "execution_count": 21,
     "metadata": {},
     "output_type": "execute_result"
    }
   ],
   "source": [
    "draw(PNG(6inch,3inch),plot(sdf,x=:time,y=:value,Geom.line,Coord.cartesian(ymax=1.0,xmax=6.72)))"
   ]
  },
  {
   "cell_type": "code",
   "execution_count": 15,
   "metadata": {},
   "outputs": [
    {
     "data": {
      "text/html": [
       "<table class=\"data-frame\"><thead><tr><th></th><th>Column1</th><th>sid</th><th>sample</th><th>time</th><th>context_A</th><th>context_B</th><th>st</th><th>test_A</th><th>test_B</th><th>response</th><th>same_freq</th></tr><tr><th></th><th>Int64⍰</th><th>String⍰</th><th>Int64⍰</th><th>Float64⍰</th><th>Int64⍰</th><th>Int64⍰</th><th>Int64⍰</th><th>Int64⍰</th><th>Int64⍰</th><th>Int64⍰</th><th>String⍰</th></tr></thead><tbody><tr><th>1</th><td>1</td><td>CK</td><td>1</td><td>0.24</td><td>1</td><td>1</td><td>0</td><td>300</td><td>424</td><td>0</td><td>FALSE</td></tr><tr><th>2</th><td>2</td><td>CK</td><td>2</td><td>0.48</td><td>1</td><td>1</td><td>0</td><td>300</td><td>424</td><td>0</td><td>FALSE</td></tr><tr><th>3</th><td>3</td><td>CK</td><td>3</td><td>0.72</td><td>1</td><td>1</td><td>0</td><td>300</td><td>424</td><td>0</td><td>FALSE</td></tr><tr><th>4</th><td>4</td><td>CK</td><td>4</td><td>0.96</td><td>1</td><td>1</td><td>0</td><td>300</td><td>424</td><td>0</td><td>FALSE</td></tr><tr><th>5</th><td>5</td><td>CK</td><td>5</td><td>1.2</td><td>1</td><td>1</td><td>0</td><td>300</td><td>424</td><td>0</td><td>FALSE</td></tr><tr><th>6</th><td>6</td><td>CK</td><td>6</td><td>1.44</td><td>1</td><td>1</td><td>0</td><td>300</td><td>424</td><td>0</td><td>FALSE</td></tr></tbody></table>"
      ],
      "text/plain": [
       "6×11 DataFrame. Omitted printing of 4 columns\n",
       "│ Row │ Column1 │ sid     │ sample │ time     │ context_A │ context_B │ st     │\n",
       "│     │ \u001b[90mInt64⍰\u001b[39m  │ \u001b[90mString⍰\u001b[39m │ \u001b[90mInt64⍰\u001b[39m │ \u001b[90mFloat64⍰\u001b[39m │ \u001b[90mInt64⍰\u001b[39m    │ \u001b[90mInt64⍰\u001b[39m    │ \u001b[90mInt64⍰\u001b[39m │\n",
       "├─────┼─────────┼─────────┼────────┼──────────┼───────────┼───────────┼────────┤\n",
       "│ 1   │ 1       │ CK      │ 1      │ 0.24     │ 1         │ 1         │ 0      │\n",
       "│ 2   │ 2       │ CK      │ 2      │ 0.48     │ 1         │ 1         │ 0      │\n",
       "│ 3   │ 3       │ CK      │ 3      │ 0.72     │ 1         │ 1         │ 0      │\n",
       "│ 4   │ 4       │ CK      │ 4      │ 0.96     │ 1         │ 1         │ 0      │\n",
       "│ 5   │ 5       │ CK      │ 5      │ 1.2      │ 1         │ 1         │ 0      │\n",
       "│ 6   │ 6       │ CK      │ 6      │ 1.44     │ 1         │ 1         │ 0      │"
      ]
     },
     "execution_count": 15,
     "metadata": {},
     "output_type": "execute_result"
    }
   ],
   "source": [
    "hdf = CSV.read(joinpath(\"..\",\"analysis\",\"context\",\"exp1A.csv\"))\n",
    "head(hdf)"
   ]
  },
  {
   "cell_type": "code",
   "execution_count": 16,
   "metadata": {},
   "outputs": [
    {
     "data": {
      "text/plain": [
       "0.24"
      ]
     },
     "execution_count": 16,
     "metadata": {},
     "output_type": "execute_result"
    }
   ],
   "source": [
    "delta = diff(hdf.time[1:2])[1]"
   ]
  },
  {
   "cell_type": "code",
   "execution_count": 17,
   "metadata": {},
   "outputs": [
    {
     "data": {
      "text/html": [
       "<table class=\"data-frame\"><thead><tr><th></th><th>time</th><th>response</th></tr><tr><th></th><th>Float64⍰</th><th>Float64</th></tr></thead><tbody><tr><th>1</th><td>0.24</td><td>0.0</td></tr><tr><th>2</th><td>0.48</td><td>0.0</td></tr><tr><th>3</th><td>0.72</td><td>0.0</td></tr><tr><th>4</th><td>0.96</td><td>0.0</td></tr><tr><th>5</th><td>1.2</td><td>0.00925926</td></tr><tr><th>6</th><td>1.44</td><td>0.037037</td></tr></tbody></table>"
      ],
      "text/plain": [
       "6×2 DataFrame\n",
       "│ Row │ time     │ response   │\n",
       "│     │ \u001b[90mFloat64⍰\u001b[39m │ \u001b[90mFloat64\u001b[39m    │\n",
       "├─────┼──────────┼────────────┤\n",
       "│ 1   │ 0.24     │ 0.0        │\n",
       "│ 2   │ 0.48     │ 0.0        │\n",
       "│ 3   │ 0.72     │ 0.0        │\n",
       "│ 4   │ 0.96     │ 0.0        │\n",
       "│ 5   │ 1.2      │ 0.00925926 │\n",
       "│ 6   │ 1.44     │ 0.037037   │"
      ]
     },
     "execution_count": 17,
     "metadata": {},
     "output_type": "execute_result"
    }
   ],
   "source": [
    "hdf_mean = @linq hdf |>\n",
    "  where((:st .== 6) .& (:same_freq.==\"TRUE\")) |>\n",
    "  by(:time,response = mean(:response))\n",
    "head(hdf_mean)"
   ]
  },
  {
   "cell_type": "code",
   "execution_count": 18,
   "metadata": {},
   "outputs": [
    {
     "data": {
      "image/png": "[encoded data removed]",
      "text/plain": [
       "Compose.Image{Compose.PNGBackend}(IOBuffer(data=UInt8[...], readable=true, writable=true, seekable=true, append=false, size=20383, maxsize=Inf, ptr=20384, mark=-1), Cairo.CairoSurfaceBase{UInt32}(Ptr{Nothing} @0x0000000000000000, 576.0, 384.0), Cairo.CairoContext(Ptr{Nothing} @0x0000000000000000, Cairo.CairoSurfaceBase{UInt32}(Ptr{Nothing} @0x0000000000000000, 576.0, 384.0), Ptr{Nothing} @0x00007f9c64818960), 576.0, 384.0, RGBA{Float64}(0.0,0.0,0.0,0.0), RGBA{Float64}(0.0,0.0,0.0,1.0), Float64[], Compose.LineCapButt(), Compose.LineJoinMiter(), true, 0.3mm, 3.880555555555555mm, \"Helvetica Neue,Helvetica,Arial,sans\", nothing, Compose.ImagePropertyState[], Compose.ImagePropertyFrame[], Dict{Type,Union{Nothing, Property}}(), true, false, nothing, true, true, 3.7795275590551185, nothing, nothing)"
      ]
     },
     "metadata": {},
     "output_type": "display_data"
    },
    {
     "data": {
      "text/plain": [
       "false"
      ]
     },
     "execution_count": 18,
     "metadata": {},
     "output_type": "execute_result"
    }
   ],
   "source": [
    "draw(PNG(6inch,4inch),plot(hdf_mean,x=:time,y=:response,Geom.line,Coord.cartesian(xmax=6.72,ymax=1.0)))"
   ]
  },
  {
   "cell_type": "code",
   "execution_count": 19,
   "metadata": {},
   "outputs": [
    {
     "data": {
      "text/plain": [
       "0.22114674596182657"
      ]
     },
     "execution_count": 19,
     "metadata": {},
     "output_type": "execute_result"
    }
   ],
   "source": [
    "rms(sdf.value[0.0 .< sdf.time .< 6.72] .- hdf_mean.response[hdf_mean.time .< 6.72])"
   ]
  }
 ],
 "metadata": {
  "kernelspec": {
   "display_name": "Julia 1.0.2",
   "language": "julia",
   "name": "julia-1.0"
  },
  "language_info": {
   "file_extension": ".jl",
   "mimetype": "application/julia",
   "name": "julia",
   "version": "1.0.2"
  }
 },
 "nbformat": 4,
 "nbformat_minor": 2
}
