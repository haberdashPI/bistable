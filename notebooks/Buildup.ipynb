{
 "cells": [
  {
   "cell_type": "markdown",
   "metadata": {},
   "source": [
    "# Setup"
   ]
  },
  {
   "cell_type": "code",
   "execution_count": 1,
   "metadata": {},
   "outputs": [
    {
     "name": "stderr",
     "output_type": "stream",
     "text": [
      "┌ Info: Recompiling stale cache file /Users/davidlittle/.julia/compiled/v1.0/RCall/8GFyb.ji for RCall [6f49c342-dc21-5d91-9882-a32aef131414]\n",
      "└ @ Base loading.jl:1190\n",
      "┌ Warning: Package RCall does not have AxisArrays in its dependencies:\n",
      "│ - If you have RCall checked out for development and have\n",
      "│   added AxisArrays as a dependency but haven't updated your primary\n",
      "│   environment's manifest file, try `Pkg.resolve()`.\n",
      "│ - Otherwise you may need to report an issue with RCall\n",
      "│ Loading AxisArrays into RCall from project dependency, future warnings for RCall are suppressed.\n",
      "└ @ nothing nothing:840\n",
      "┌ Info: Recompiling stale cache file /Users/davidlittle/.julia/compiled/v1.0/DataFramesMeta/2xRTO.ji for DataFramesMeta [1313f7d8-7da2-5740-9ea0-a2ca25f37964]\n",
      "└ @ Base loading.jl:1190\n",
      "┌ Info: Recompiling stale cache file /Users/davidlittle/.julia/compiled/v1.0/AuditoryBistabilityLE/RqG8S.ji for AuditoryBistabilityLE [7e25a372-ade5-11e8-17af-a30e5a9e2c28]\n",
      "└ @ Base loading.jl:1190\n"
     ]
    },
    {
     "data": {
      "text/html": [
       "<script charset=\"utf-8\" type='text/javascript'>\n",
       "/*! wavesurfer.js 1.2.1 (Sat, 01 Oct 2016 09:49:34 GMT)\n",
       "* https://github.com/katspaugh/wavesurfer.js\n",
       "* @license CC-BY-3.0 */\n",
       "!function(a,b){\"function\"==typeof define&&define.amd?define(\"wavesurfer\",[],function(){return a.WaveSurfer=b()}):\"object\"==typeof exports?module.exports=b():a.WaveSurfer=b()}(this,function(){\"use strict\";var a={defaultParams:{height:128,waveColor:\"#999\",progressColor:\"#555\",cursorColor:\"#333\",cursorWidth:1,skipLength:2,minPxPerSec:20,pixelRatio:window.devicePixelRatio||screen.deviceXDPI/screen.logicalXDPI,fillParent:!0,scrollParent:!1,hideScrollbar:!1,normalize:!1,audioContext:null,container:null,dragSelection:!0,loopSelection:!0,audioRate:1,interact:!0,splitChannels:!1,mediaContainer:null,mediaControls:!1,renderer:\"Canvas\",backend:\"WebAudio\",mediaType:\"audio\",autoCenter:!0},init:function(b){if(this.params=a.util.extend({},this.defaultParams,b),this.container=\"string\"==typeof b.container?document.querySelector(this.params.container):this.params.container,!this.container)throw new Error(\"Container element not found\");if(null==this.params.mediaContainer?this.mediaContainer=this.container:\"string\"==typeof this.params.mediaContainer?this.mediaContainer=document.querySelector(this.params.mediaContainer):this.mediaContainer=this.params.mediaContainer,!this.mediaContainer)throw new Error(\"Media Container element not found\");this.savedVolume=0,this.isMuted=!1,this.tmpEvents=[],this.currentAjax=null,this.createDrawer(),this.createBackend(),this.isDestroyed=!1},createDrawer:function(){var b=this;this.drawer=Object.create(a.Drawer[this.params.renderer]),this.drawer.init(this.container,this.params),this.drawer.on(\"redraw\",function(){b.drawBuffer(),b.drawer.progress(b.backend.getPlayedPercents())}),this.drawer.on(\"click\",function(a,c){setTimeout(function(){b.seekTo(c)},0)}),this.drawer.on(\"scroll\",function(a){b.fireEvent(\"scroll\",a)})},createBackend:function(){var b=this;this.backend&&this.backend.destroy(),\"AudioElement\"==this.params.backend&&(this.params.backend=\"MediaElement\"),\"WebAudio\"!=this.params.backend||a.WebAudio.supportsWebAudio()||(this.params.backend=\"MediaElement\"),this.backend=Object.create(a[this.params.backend]),this.backend.init(this.params),this.backend.on(\"finish\",function(){b.fireEvent(\"finish\")}),this.backend.on(\"play\",function(){b.fireEvent(\"play\")}),this.backend.on(\"pause\",function(){b.fireEvent(\"pause\")}),this.backend.on(\"audioprocess\",function(a){b.drawer.progress(b.backend.getPlayedPercents()),b.fireEvent(\"audioprocess\",a)})},getDuration:function(){return this.backend.getDuration()},getCurrentTime:function(){return this.backend.getCurrentTime()},play:function(a,b){this.fireEvent(\"interaction\",this.play.bind(this,a,b)),this.backend.play(a,b)},pause:function(){this.backend.pause()},playPause:function(){this.backend.isPaused()?this.play():this.pause()},isPlaying:function(){return!this.backend.isPaused()},skipBackward:function(a){this.skip(-a||-this.params.skipLength)},skipForward:function(a){this.skip(a||this.params.skipLength)},skip:function(a){var b=this.getCurrentTime()||0,c=this.getDuration()||1;b=Math.max(0,Math.min(c,b+(a||0))),this.seekAndCenter(b/c)},seekAndCenter:function(a){this.seekTo(a),this.drawer.recenter(a)},seekTo:function(a){this.fireEvent(\"interaction\",this.seekTo.bind(this,a));var b=this.backend.isPaused(),c=this.params.scrollParent;b&&(this.params.scrollParent=!1),this.backend.seekTo(a*this.getDuration()),this.drawer.progress(this.backend.getPlayedPercents()),b||(this.backend.pause(),this.backend.play()),this.params.scrollParent=c,this.fireEvent(\"seek\",a)},stop:function(){this.pause(),this.seekTo(0),this.drawer.progress(0)},setVolume:function(a){this.backend.setVolume(a)},setPlaybackRate:function(a){this.backend.setPlaybackRate(a)},toggleMute:function(){this.isMuted?(this.backend.setVolume(this.savedVolume),this.isMuted=!1):(this.savedVolume=this.backend.getVolume(),this.backend.setVolume(0),this.isMuted=!0)},toggleScroll:function(){this.params.scrollParent=!this.params.scrollParent,this.drawBuffer()},toggleInteraction:function(){this.params.interact=!this.params.interact},drawBuffer:function(){var a=Math.round(this.getDuration()*this.params.minPxPerSec*this.params.pixelRatio),b=this.drawer.getWidth(),c=a;this.params.fillParent&&(!this.params.scrollParent||a<b)&&(c=b);var d=this.backend.getPeaks(c);this.drawer.drawPeaks(d,c),this.fireEvent(\"redraw\",d,c)},zoom:function(a){this.params.minPxPerSec=a,this.params.scrollParent=!0,this.drawBuffer(),this.drawer.progress(this.backend.getPlayedPercents()),this.drawer.recenter(this.getCurrentTime()/this.getDuration()),this.fireEvent(\"zoom\",a)},loadArrayBuffer:function(a){this.decodeArrayBuffer(a,function(a){this.isDestroyed||this.loadDecodedBuffer(a)}.bind(this))},loadDecodedBuffer:function(a){this.backend.load(a),this.drawBuffer(),this.fireEvent(\"ready\")},loadBlob:function(a){var b=this,c=new FileReader;c.addEventListener(\"progress\",function(a){b.onProgress(a)}),c.addEventListener(\"load\",function(a){b.loadArrayBuffer(a.target.result)}),c.addEventListener(\"error\",function(){b.fireEvent(\"error\",\"Error reading file\")}),c.readAsArrayBuffer(a),this.empty()},load:function(a,b){switch(this.empty(),this.params.backend){case\"WebAudio\":return this.loadBuffer(a,b);case\"MediaElement\":return this.loadMediaElement(a,b)}},loadBuffer:function(a,b){var c=function(b){return b&&this.tmpEvents.push(this.once(\"ready\",b)),this.getArrayBuffer(a,this.loadArrayBuffer.bind(this))}.bind(this);return b?(this.backend.setPeaks(b),this.drawBuffer(),this.tmpEvents.push(this.once(\"interaction\",c)),void 0):c()},loadMediaElement:function(a,b){var c=a;if(\"string\"==typeof a)this.backend.load(c,this.mediaContainer,b);else{var d=a;this.backend.loadElt(d,b),c=d.src}this.tmpEvents.push(this.backend.once(\"canplay\",function(){this.drawBuffer(),this.fireEvent(\"ready\")}.bind(this)),this.backend.once(\"error\",function(a){this.fireEvent(\"error\",a)}.bind(this))),b?this.backend.setPeaks(b):this.backend.supportsWebAudio()&&this.getArrayBuffer(c,function(a){this.decodeArrayBuffer(a,function(a){this.backend.buffer=a,this.drawBuffer()}.bind(this))}.bind(this))},decodeArrayBuffer:function(a,b){this.arraybuffer=a,this.backend.decodeArrayBuffer(a,function(c){this.isDestroyed||this.arraybuffer!=a||(b(c),this.arraybuffer=null)}.bind(this),this.fireEvent.bind(this,\"error\",\"Error decoding audiobuffer\"))},getArrayBuffer:function(b,c){var d=this,e=a.util.ajax({url:b,responseType:\"arraybuffer\"});return this.currentAjax=e,this.tmpEvents.push(e.on(\"progress\",function(a){d.onProgress(a)}),e.on(\"success\",function(a,b){c(a),d.currentAjax=null}),e.on(\"error\",function(a){d.fireEvent(\"error\",\"XHR error: \"+a.target.statusText),d.currentAjax=null})),e},onProgress:function(a){if(a.lengthComputable)var b=a.loaded/a.total;else b=a.loaded/(a.loaded+1e6);this.fireEvent(\"loading\",Math.round(100*b),a.target)},exportPCM:function(a,b,c){a=a||1024,b=b||1e4,c=c||!1;var d=this.backend.getPeaks(a,b),e=[].map.call(d,function(a){return Math.round(a*b)/b}),f=JSON.stringify(e);return c||window.open(\"data:application/json;charset=utf-8,\"+encodeURIComponent(f)),f},exportImage:function(a,b){return a||(a=\"image/png\"),b||(b=1),this.drawer.getImage(a,b)},cancelAjax:function(){this.currentAjax&&(this.currentAjax.xhr.abort(),this.currentAjax=null)},clearTmpEvents:function(){this.tmpEvents.forEach(function(a){a.un()})},empty:function(){this.backend.isPaused()||(this.stop(),this.backend.disconnectSource()),this.cancelAjax(),this.clearTmpEvents(),this.drawer.progress(0),this.drawer.setWidth(0),this.drawer.drawPeaks({length:this.drawer.getWidth()},0)},destroy:function(){this.fireEvent(\"destroy\"),this.cancelAjax(),this.clearTmpEvents(),this.unAll(),this.backend.destroy(),this.drawer.destroy(),this.isDestroyed=!0}};return a.create=function(b){var c=Object.create(a);return c.init(b),c},a.util={extend:function(a){var b=Array.prototype.slice.call(arguments,1);return b.forEach(function(b){Object.keys(b).forEach(function(c){a[c]=b[c]})}),a},min:function(a){var b=+(1/0);for(var c in a)a[c]<b&&(b=a[c]);return b},max:function(a){var b=-(1/0);for(var c in a)a[c]>b&&(b=a[c]);return b},getId:function(){return\"wavesurfer_\"+Math.random().toString(32).substring(2)},ajax:function(b){var c=Object.create(a.Observer),d=new XMLHttpRequest,e=!1;return d.open(b.method||\"GET\",b.url,!0),d.responseType=b.responseType||\"json\",d.addEventListener(\"progress\",function(a){c.fireEvent(\"progress\",a),a.lengthComputable&&a.loaded==a.total&&(e=!0)}),d.addEventListener(\"load\",function(a){e||c.fireEvent(\"progress\",a),c.fireEvent(\"load\",a),200==d.status||206==d.status?c.fireEvent(\"success\",d.response,a):c.fireEvent(\"error\",a)}),d.addEventListener(\"error\",function(a){c.fireEvent(\"error\",a)}),d.send(),c.xhr=d,c}},a.Observer={on:function(a,b){this.handlers||(this.handlers={});var c=this.handlers[a];return c||(c=this.handlers[a]=[]),c.push(b),{name:a,callback:b,un:this.un.bind(this,a,b)}},un:function(a,b){if(this.handlers){var c=this.handlers[a];if(c)if(b)for(var d=c.length-1;d>=0;d--)c[d]==b&&c.splice(d,1);else c.length=0}},unAll:function(){this.handlers=null},once:function(a,b){var c=this,d=function(){b.apply(this,arguments),setTimeout(function(){c.un(a,d)},0)};return this.on(a,d)},fireEvent:function(a){if(this.handlers){var b=this.handlers[a],c=Array.prototype.slice.call(arguments,1);b&&b.forEach(function(a){a.apply(null,c)})}}},a.util.extend(a,a.Observer),a.WebAudio={scriptBufferSize:256,PLAYING_STATE:0,PAUSED_STATE:1,FINISHED_STATE:2,supportsWebAudio:function(){return!(!window.AudioContext&&!window.webkitAudioContext)},getAudioContext:function(){return a.WebAudio.audioContext||(a.WebAudio.audioContext=new(window.AudioContext||window.webkitAudioContext)),a.WebAudio.audioContext},getOfflineAudioContext:function(b){return a.WebAudio.offlineAudioContext||(a.WebAudio.offlineAudioContext=new(window.OfflineAudioContext||window.webkitOfflineAudioContext)(1,2,b)),a.WebAudio.offlineAudioContext},init:function(b){this.params=b,this.ac=b.audioContext||this.getAudioContext(),this.lastPlay=this.ac.currentTime,this.startPosition=0,this.scheduledPause=null,this.states=[Object.create(a.WebAudio.state.playing),Object.create(a.WebAudio.state.paused),Object.create(a.WebAudio.state.finished)],this.createVolumeNode(),this.createScriptNode(),this.createAnalyserNode(),this.setState(this.PAUSED_STATE),this.setPlaybackRate(this.params.audioRate)},disconnectFilters:function(){this.filters&&(this.filters.forEach(function(a){a&&a.disconnect()}),this.filters=null,this.analyser.connect(this.gainNode))},setState:function(a){this.state!==this.states[a]&&(this.state=this.states[a],this.state.init.call(this))},setFilter:function(){this.setFilters([].slice.call(arguments))},setFilters:function(a){this.disconnectFilters(),a&&a.length&&(this.filters=a,this.analyser.disconnect(),a.reduce(function(a,b){return a.connect(b),b},this.analyser).connect(this.gainNode))},createScriptNode:function(){this.ac.createScriptProcessor?this.scriptNode=this.ac.createScriptProcessor(this.scriptBufferSize):this.scriptNode=this.ac.createJavaScriptNode(this.scriptBufferSize),this.scriptNode.connect(this.ac.destination)},addOnAudioProcess:function(){var a=this;this.scriptNode.onaudioprocess=function(){var b=a.getCurrentTime();b>=a.getDuration()?(a.setState(a.FINISHED_STATE),a.fireEvent(\"pause\")):b>=a.scheduledPause?a.pause():a.state===a.states[a.PLAYING_STATE]&&a.fireEvent(\"audioprocess\",b)}},removeOnAudioProcess:function(){this.scriptNode.onaudioprocess=null},createAnalyserNode:function(){this.analyser=this.ac.createAnalyser(),this.analyser.connect(this.gainNode)},createVolumeNode:function(){this.ac.createGain?this.gainNode=this.ac.createGain():this.gainNode=this.ac.createGainNode(),this.gainNode.connect(this.ac.destination)},setVolume:function(a){this.gainNode.gain.value=a},getVolume:function(){return this.gainNode.gain.value},decodeArrayBuffer:function(a,b,c){this.offlineAc||(this.offlineAc=this.getOfflineAudioContext(this.ac?this.ac.sampleRate:44100)),this.offlineAc.decodeAudioData(a,function(a){b(a)}.bind(this),c)},setPeaks:function(a){this.peaks=a},getPeaks:function(a){if(this.peaks)return this.peaks;for(var b=this.buffer.length/a,c=~~(b/10)||1,d=this.buffer.numberOfChannels,e=[],f=[],g=0;g<d;g++)for(var h=e[g]=[],i=this.buffer.getChannelData(g),j=0;j<a;j++){for(var k=~~(j*b),l=~~(k+b),m=0,n=0,o=k;o<l;o+=c){var p=i[o];p>n&&(n=p),p<m&&(m=p)}h[2*j]=n,h[2*j+1]=m,(0==g||n>f[2*j])&&(f[2*j]=n),(0==g||m<f[2*j+1])&&(f[2*j+1]=m)}return this.params.splitChannels?e:f},getPlayedPercents:function(){return this.state.getPlayedPercents.call(this)},disconnectSource:function(){this.source&&this.source.disconnect()},destroy:function(){this.isPaused()||this.pause(),this.unAll(),this.buffer=null,this.disconnectFilters(),this.disconnectSource(),this.gainNode.disconnect(),this.scriptNode.disconnect(),this.analyser.disconnect()},load:function(a){this.startPosition=0,this.lastPlay=this.ac.currentTime,this.buffer=a,this.createSource()},createSource:function(){this.disconnectSource(),this.source=this.ac.createBufferSource(),this.source.start=this.source.start||this.source.noteGrainOn,this.source.stop=this.source.stop||this.source.noteOff,this.source.playbackRate.value=this.playbackRate,this.source.buffer=this.buffer,this.source.connect(this.analyser)},isPaused:function(){return this.state!==this.states[this.PLAYING_STATE]},getDuration:function(){return this.buffer?this.buffer.duration:0},seekTo:function(a,b){if(this.buffer)return this.scheduledPause=null,null==a&&(a=this.getCurrentTime(),a>=this.getDuration()&&(a=0)),null==b&&(b=this.getDuration()),this.startPosition=a,this.lastPlay=this.ac.currentTime,this.state===this.states[this.FINISHED_STATE]&&this.setState(this.PAUSED_STATE),{start:a,end:b}},getPlayedTime:function(){return(this.ac.currentTime-this.lastPlay)*this.playbackRate},play:function(a,b){if(this.buffer){this.createSource();var c=this.seekTo(a,b);a=c.start,b=c.end,this.scheduledPause=b,this.source.start(0,a,b-a),this.setState(this.PLAYING_STATE),this.fireEvent(\"play\")}},pause:function(){this.scheduledPause=null,this.startPosition+=this.getPlayedTime(),this.source&&this.source.stop(0),this.setState(this.PAUSED_STATE),this.fireEvent(\"pause\")},getCurrentTime:function(){return this.state.getCurrentTime.call(this)},setPlaybackRate:function(a){a=a||1,this.isPaused()?this.playbackRate=a:(this.pause(),this.playbackRate=a,this.play())}},a.WebAudio.state={},a.WebAudio.state.playing={init:function(){this.addOnAudioProcess()},getPlayedPercents:function(){var a=this.getDuration();return this.getCurrentTime()/a||0},getCurrentTime:function(){return this.startPosition+this.getPlayedTime()}},a.WebAudio.state.paused={init:function(){this.removeOnAudioProcess()},getPlayedPercents:function(){var a=this.getDuration();return this.getCurrentTime()/a||0},getCurrentTime:function(){return this.startPosition}},a.WebAudio.state.finished={init:function(){this.removeOnAudioProcess(),this.fireEvent(\"finish\")},getPlayedPercents:function(){return 1},getCurrentTime:function(){return this.getDuration()}},a.util.extend(a.WebAudio,a.Observer),a.MediaElement=Object.create(a.WebAudio),a.util.extend(a.MediaElement,{init:function(a){this.params=a,this.media={currentTime:0,duration:0,paused:!0,playbackRate:1,play:function(){},pause:function(){}},this.mediaType=a.mediaType.toLowerCase(),this.elementPosition=a.elementPosition,this.setPlaybackRate(this.params.audioRate),this.createTimer()},createTimer:function(){var a=this,b=function(){if(!a.isPaused()){a.fireEvent(\"audioprocess\",a.getCurrentTime());var c=window.requestAnimationFrame||window.webkitRequestAnimationFrame;c(b)}};this.on(\"play\",b)},load:function(a,b,c){var d=document.createElement(this.mediaType);d.controls=this.params.mediaControls,d.autoplay=this.params.autoplay||!1,d.preload=\"auto\",d.src=a,d.style.width=\"100%\";var e=b.querySelector(this.mediaType);e&&b.removeChild(e),b.appendChild(d),this._load(d,c)},loadElt:function(a,b){var c=a;c.controls=this.params.mediaControls,c.autoplay=this.params.autoplay||!1,this._load(c,b)},_load:function(a,b){var c=this;a.load(),a.addEventListener(\"error\",function(){c.fireEvent(\"error\",\"Error loading media element\")}),a.addEventListener(\"canplay\",function(){c.fireEvent(\"canplay\")}),a.addEventListener(\"ended\",function(){c.fireEvent(\"finish\")}),this.media=a,this.peaks=b,this.onPlayEnd=null,this.buffer=null,this.setPlaybackRate(this.playbackRate)},isPaused:function(){return!this.media||this.media.paused},getDuration:function(){var a=this.media.duration;return a>=1/0&&(a=this.media.seekable.end(0)),a},getCurrentTime:function(){return this.media&&this.media.currentTime},getPlayedPercents:function(){return this.getCurrentTime()/this.getDuration()||0},setPlaybackRate:function(a){this.playbackRate=a||1,this.media.playbackRate=this.playbackRate},seekTo:function(a){null!=a&&(this.media.currentTime=a),this.clearPlayEnd()},play:function(a,b){this.seekTo(a),this.media.play(),b&&this.setPlayEnd(b),this.fireEvent(\"play\")},pause:function(){this.media&&this.media.pause(),this.clearPlayEnd(),this.fireEvent(\"pause\")},setPlayEnd:function(a){var b=this;this.onPlayEnd=function(c){c>=a&&(b.pause(),b.seekTo(a))},this.on(\"audioprocess\",this.onPlayEnd)},clearPlayEnd:function(){this.onPlayEnd&&(this.un(\"audioprocess\",this.onPlayEnd),this.onPlayEnd=null)},getPeaks:function(b){return this.buffer?a.WebAudio.getPeaks.call(this,b):this.peaks||[]},getVolume:function(){return this.media.volume},setVolume:function(a){this.media.volume=a},destroy:function(){this.pause(),this.unAll(),this.media&&this.media.parentNode&&this.media.parentNode.removeChild(this.media),this.media=null}}),a.AudioElement=a.MediaElement,a.Drawer={init:function(a,b){this.container=a,this.params=b,this.width=0,this.height=b.height*this.params.pixelRatio,this.lastPos=0,this.initDrawer(b),this.createWrapper(),this.createElements()},createWrapper:function(){this.wrapper=this.container.appendChild(document.createElement(\"wave\")),this.style(this.wrapper,{display:\"block\",position:\"relative\",userSelect:\"none\",webkitUserSelect:\"none\",height:this.params.height+\"px\"}),(this.params.fillParent||this.params.scrollParent)&&this.style(this.wrapper,{width:\"100%\",overflowX:this.params.hideScrollbar?\"hidden\":\"auto\",overflowY:\"hidden\"}),this.setupWrapperEvents()},handleEvent:function(a,b){!b&&a.preventDefault();var c,d=a.targetTouches?a.targetTouches[0].clientX:a.clientX,e=this.wrapper.getBoundingClientRect(),f=this.width,g=this.getWidth();return!this.params.fillParent&&f<g?(c=(d-e.left)*this.params.pixelRatio/f||0,c>1&&(c=1)):c=(d-e.left+this.wrapper.scrollLeft)/this.wrapper.scrollWidth||0,c},setupWrapperEvents:function(){var a=this;this.wrapper.addEventListener(\"click\",function(b){var c=a.wrapper.offsetHeight-a.wrapper.clientHeight;if(0!=c){var d=a.wrapper.getBoundingClientRect();if(b.clientY>=d.bottom-c)return}a.params.interact&&a.fireEvent(\"click\",b,a.handleEvent(b))}),this.wrapper.addEventListener(\"scroll\",function(b){a.fireEvent(\"scroll\",b)})},drawPeaks:function(a,b){this.resetScroll(),this.setWidth(b),this.params.barWidth?this.drawBars(a):this.drawWave(a)},style:function(a,b){return Object.keys(b).forEach(function(c){a.style[c]!==b[c]&&(a.style[c]=b[c])}),a},resetScroll:function(){null!==this.wrapper&&(this.wrapper.scrollLeft=0)},recenter:function(a){var b=this.wrapper.scrollWidth*a;this.recenterOnPosition(b,!0)},recenterOnPosition:function(a,b){var c=this.wrapper.scrollLeft,d=~~(this.wrapper.clientWidth/2),e=a-d,f=e-c,g=this.wrapper.scrollWidth-this.wrapper.clientWidth;if(0!=g){if(!b&&-d<=f&&f<d){var h=5;f=Math.max(-h,Math.min(h,f)),e=c+f}e=Math.max(0,Math.min(g,e)),e!=c&&(this.wrapper.scrollLeft=e)}},getWidth:function(){return Math.round(this.container.clientWidth*this.params.pixelRatio)},setWidth:function(a){this.width=a,this.params.fillParent||this.params.scrollParent?this.style(this.wrapper,{width:\"\"}):this.style(this.wrapper,{width:~~(this.width/this.params.pixelRatio)+\"px\"}),this.updateSize()},setHeight:function(a){a!=this.height&&(this.height=a,this.style(this.wrapper,{height:~~(this.height/this.params.pixelRatio)+\"px\"}),this.updateSize())},progress:function(a){var b=1/this.params.pixelRatio,c=Math.round(a*this.width)*b;if(c<this.lastPos||c-this.lastPos>=b){if(this.lastPos=c,this.params.scrollParent&&this.params.autoCenter){var d=~~(this.wrapper.scrollWidth*a);this.recenterOnPosition(d)}this.updateProgress(a)}},destroy:function(){this.unAll(),this.wrapper&&(this.container.removeChild(this.wrapper),this.wrapper=null)},initDrawer:function(){},createElements:function(){},updateSize:function(){},drawWave:function(a,b){},clearWave:function(){},updateProgress:function(a){}},a.util.extend(a.Drawer,a.Observer),a.Drawer.Canvas=Object.create(a.Drawer),a.util.extend(a.Drawer.Canvas,{createElements:function(){var a=this.wrapper.appendChild(this.style(document.createElement(\"canvas\"),{position:\"absolute\",zIndex:1,left:0,top:0,bottom:0}));if(this.waveCc=a.getContext(\"2d\"),this.progressWave=this.wrapper.appendChild(this.style(document.createElement(\"wave\"),{position:\"absolute\",zIndex:2,left:0,top:0,bottom:0,overflow:\"hidden\",width:\"0\",display:\"none\",boxSizing:\"border-box\",borderRightStyle:\"solid\",borderRightWidth:this.params.cursorWidth+\"px\",borderRightColor:this.params.cursorColor})),this.params.waveColor!=this.params.progressColor){var b=this.progressWave.appendChild(document.createElement(\"canvas\"));this.progressCc=b.getContext(\"2d\")}},updateSize:function(){var a=Math.round(this.width/this.params.pixelRatio);this.waveCc.canvas.width=this.width,this.waveCc.canvas.height=this.height,this.style(this.waveCc.canvas,{width:a+\"px\"}),this.style(this.progressWave,{display:\"block\"}),this.progressCc&&(this.progressCc.canvas.width=this.width,this.progressCc.canvas.height=this.height,this.style(this.progressCc.canvas,{width:a+\"px\"})),this.clearWave()},clearWave:function(){this.waveCc.clearRect(0,0,this.width,this.height),this.progressCc&&this.progressCc.clearRect(0,0,this.width,this.height)},drawBars:function(b,c){if(b[0]instanceof Array){var d=b;if(this.params.splitChannels)return this.setHeight(d.length*this.params.height*this.params.pixelRatio),void d.forEach(this.drawBars,this);b=d[0]}var e=[].some.call(b,function(a){return a<0});e&&(b=[].filter.call(b,function(a,b){return b%2==0}));var f=.5/this.params.pixelRatio,g=this.width,h=this.params.height*this.params.pixelRatio,i=h*c||0,j=h/2,k=b.length,l=this.params.barWidth*this.params.pixelRatio,m=Math.max(this.params.pixelRatio,~~(l/2)),n=l+m,o=1;this.params.normalize&&(o=a.util.max(b));var p=k/g;this.waveCc.fillStyle=this.params.waveColor,this.progressCc&&(this.progressCc.fillStyle=this.params.progressColor),[this.waveCc,this.progressCc].forEach(function(a){if(a)for(var c=0;c<g;c+=n){var d=Math.round(b[Math.floor(c*p)]/o*j);a.fillRect(c+f,j-d+i,l+f,2*d)}},this)},drawWave:function(b,c){if(b[0]instanceof Array){var d=b;if(this.params.splitChannels)return this.setHeight(d.length*this.params.height*this.params.pixelRatio),void d.forEach(this.drawWave,this);b=d[0]}var e=[].some.call(b,function(a){return a<0});if(!e){for(var f=[],g=0,h=b.length;g<h;g++)f[2*g]=b[g],f[2*g+1]=-b[g];b=f}var i=.5/this.params.pixelRatio,j=this.params.height*this.params.pixelRatio,k=j*c||0,l=j/2,m=~~(b.length/2),n=1;this.params.fillParent&&this.width!=m&&(n=this.width/m);var o=1;if(this.params.normalize){var p=a.util.max(b),q=a.util.min(b);o=-q>p?-q:p}this.waveCc.fillStyle=this.params.waveColor,this.progressCc&&(this.progressCc.fillStyle=this.params.progressColor),[this.waveCc,this.progressCc].forEach(function(a){if(a){a.beginPath(),a.moveTo(i,l+k);for(var c=0;c<m;c++){var d=Math.round(b[2*c]/o*l);a.lineTo(c*n+i,l-d+k)}for(var c=m-1;c>=0;c--){var d=Math.round(b[2*c+1]/o*l);a.lineTo(c*n+i,l-d+k)}a.closePath(),a.fill(),a.fillRect(0,l+k-i,this.width,i)}},this)},updateProgress:function(a){var b=Math.round(this.width*a)/this.params.pixelRatio;this.style(this.progressWave,{width:b+\"px\"})},getImage:function(a,b){return this.waveCc.canvas.toDataURL(a,b)}}),a.Drawer.MultiCanvas=Object.create(a.Drawer),a.util.extend(a.Drawer.MultiCanvas,{initDrawer:function(a){if(this.maxCanvasWidth=null!=a.maxCanvasWidth?a.maxCanvasWidth:4e3,this.maxCanvasElementWidth=Math.round(this.maxCanvasWidth/this.params.pixelRatio),this.maxCanvasWidth<=1)throw\"maxCanvasWidth must be greater than 1.\";if(this.maxCanvasWidth%2==1)throw\"maxCanvasWidth must be an even number.\";this.hasProgressCanvas=this.params.waveColor!=this.params.progressColor,this.halfPixel=.5/this.params.pixelRatio,this.canvases=[]},createElements:function(){this.progressWave=this.wrapper.appendChild(this.style(document.createElement(\"wave\"),{position:\"absolute\",zIndex:2,left:0,top:0,bottom:0,overflow:\"hidden\",width:\"0\",display:\"none\",boxSizing:\"border-box\",borderRightStyle:\"solid\",borderRightWidth:this.params.cursorWidth+\"px\",borderRightColor:this.params.cursorColor})),this.addCanvas()},updateSize:function(){for(var a=Math.round(this.width/this.params.pixelRatio),b=Math.ceil(a/this.maxCanvasElementWidth);this.canvases.length<b;)this.addCanvas();for(;this.canvases.length>b;)this.removeCanvas();for(var c in this.canvases){var d=this.maxCanvasWidth+2*Math.ceil(this.params.pixelRatio/2);c==this.canvases.length-1&&(d=this.width-this.maxCanvasWidth*(this.canvases.length-1)),this.updateDimensions(this.canvases[c],d,this.height),this.clearWaveForEntry(this.canvases[c])}},addCanvas:function(){var a={},b=this.maxCanvasElementWidth*this.canvases.length;a.wave=this.wrapper.appendChild(this.style(document.createElement(\"canvas\"),{position:\"absolute\",zIndex:1,left:b+\"px\",top:0,bottom:0})),a.waveCtx=a.wave.getContext(\"2d\"),this.hasProgressCanvas&&(a.progress=this.progressWave.appendChild(this.style(document.createElement(\"canvas\"),{position:\"absolute\",left:b+\"px\",top:0,bottom:0})),a.progressCtx=a.progress.getContext(\"2d\")),this.canvases.push(a)},removeCanvas:function(){var a=this.canvases.pop();a.wave.parentElement.removeChild(a.wave),this.hasProgressCanvas&&a.progress.parentElement.removeChild(a.progress)},updateDimensions:function(a,b,c){var d=Math.round(b/this.params.pixelRatio),e=Math.round(this.width/this.params.pixelRatio);a.start=a.waveCtx.canvas.offsetLeft/e||0,a.end=a.start+d/e,a.waveCtx.canvas.width=b,a.waveCtx.canvas.height=c,this.style(a.waveCtx.canvas,{width:d+\"px\"}),this.style(this.progressWave,{display:\"block\"}),this.hasProgressCanvas&&(a.progressCtx.canvas.width=b,a.progressCtx.canvas.height=c,this.style(a.progressCtx.canvas,{width:d+\"px\"}))},clearWave:function(){for(var a in this.canvases)this.clearWaveForEntry(this.canvases[a])},clearWaveForEntry:function(a){a.waveCtx.clearRect(0,0,a.waveCtx.canvas.width,a.waveCtx.canvas.height),this.hasProgressCanvas&&a.progressCtx.clearRect(0,0,a.progressCtx.canvas.width,a.progressCtx.canvas.height)},drawBars:function(b,c){if(b[0]instanceof Array){var d=b;if(this.params.splitChannels)return this.setHeight(d.length*this.params.height*this.params.pixelRatio),void d.forEach(this.drawBars,this);b=d[0]}var e=[].some.call(b,function(a){return a<0});e&&(b=[].filter.call(b,function(a,b){return b%2==0}));var f=this.width,g=this.params.height*this.params.pixelRatio,h=g*c||0,i=g/2,j=b.length,k=this.params.barWidth*this.params.pixelRatio,l=Math.max(this.params.pixelRatio,~~(k/2)),m=k+l,n=1;this.params.normalize&&(n=a.util.max(b));for(var o=j/f,p=0;p<f;p+=m){var q=Math.round(b[Math.floor(p*o)]/n*i);this.fillRect(p+this.halfPixel,i-q+h,k+this.halfPixel,2*q)}},drawWave:function(b,c){if(b[0]instanceof Array){var d=b;if(this.params.splitChannels)return this.setHeight(d.length*this.params.height*this.params.pixelRatio),void d.forEach(this.drawWave,this);b=d[0]}var e=[].some.call(b,function(a){return a<0});if(!e){for(var f=[],g=0,h=b.length;g<h;g++)f[2*g]=b[g],f[2*g+1]=-b[g];b=f}var i=this.params.height*this.params.pixelRatio,j=i*c||0,k=i/2,l=1;if(this.params.normalize){var m=a.util.max(b),n=a.util.min(b);l=-n>m?-n:m}this.drawLine(b,l,k,j),this.fillRect(0,k+j-this.halfPixel,this.width,this.halfPixel)},drawLine:function(a,b,c,d){for(var e in this.canvases){var f=this.canvases[e];this.setFillStyles(f),this.drawLineToContext(f,f.waveCtx,a,b,c,d),this.drawLineToContext(f,f.progressCtx,a,b,c,d)}},drawLineToContext:function(a,b,c,d,e,f){if(b){var g=c.length/2,h=1;this.params.fillParent&&this.width!=g&&(h=this.width/g);var i=Math.round(g*a.start),j=Math.round(g*a.end);b.beginPath(),b.moveTo(this.halfPixel,e+f);for(var k=i;k<j;k++){var l=Math.round(c[2*k]/d*e);b.lineTo((k-i)*h+this.halfPixel,e-l+f)}for(var k=j-1;k>=i;k--){var l=Math.round(c[2*k+1]/d*e);b.lineTo((k-i)*h+this.halfPixel,e-l+f)}b.closePath(),b.fill()}},fillRect:function(a,b,c,d){for(var e in this.canvases){var f=this.canvases[e],g=e*this.maxCanvasWidth,h={x1:Math.max(a,e*this.maxCanvasWidth),y1:b,x2:Math.min(a+c,e*this.maxCanvasWidth+f.waveCtx.canvas.width),y2:b+d};h.x1<h.x2&&(this.setFillStyles(f),this.fillRectToContext(f.waveCtx,h.x1-g,h.y1,h.x2-h.x1,h.y2-h.y1),this.fillRectToContext(f.progressCtx,h.x1-g,h.y1,h.x2-h.x1,h.y2-h.y1))}},fillRectToContext:function(a,b,c,d,e){a&&a.fillRect(b,c,d,e)},setFillStyles:function(a){a.waveCtx.fillStyle=this.params.waveColor,this.hasProgressCanvas&&(a.progressCtx.fillStyle=this.params.progressColor)},updateProgress:function(a){var b=Math.round(this.width*a)/this.params.pixelRatio;this.style(this.progressWave,{width:b+\"px\"})}}),function(){var b=function(){var b=document.querySelectorAll(\"wavesurfer\");Array.prototype.forEach.call(b,function(b){var c=a.util.extend({container:b,backend:\"MediaElement\",mediaControls:!0},b.dataset);b.style.display=\"block\";var d=a.create(c);if(b.dataset.peaks)var e=JSON.parse(b.dataset.peaks);d.load(b.dataset.url,e)})};\"complete\"===document.readyState?b():window.addEventListener(\"load\",b)}(),a});\n",
       "//# sourceMappingURL=wavesurfer.min.js.map\n",
       "console.log(\"SampledSignals.jl: wavesurfer library loaded\")\n",
       "</script>\n"
      ]
     },
     "metadata": {},
     "output_type": "display_data"
    },
    {
     "name": "stderr",
     "output_type": "stream",
     "text": [
      "┌ Info: Recompiling stale cache file /Users/davidlittle/.julia/compiled/v1.0/Feather/RgcL0.ji for Feather [becb17da-46f6-5d3c-ad1b-1c5fe96bc73c]\n",
      "└ @ Base loading.jl:1190\n",
      "┌ Info: Loading Cairo backend into Compose.jl\n",
      "└ @ Compose /Users/davidlittle/.julia/packages/Compose/BYWXX/src/Compose.jl:161\n",
      "┌ Warning: \n",
      "│ Loading Cairo into Compose from project dependency, future warnings for Compose are suppressed.\n",
      "└ @ nothing nothing:840\n",
      "┌ Info: Loading DataFrames support into Gadfly.jl\n",
      "└ @ Gadfly /Users/davidlittle/.julia/packages/Gadfly/ew1SM/src/mapping.jl:228\n",
      "┌ Info: Recompiling stale cache file /Users/davidlittle/.julia/compiled/v1.0/CSV/HHBkp.ji for CSV [336ed68f-0bac-5ca0-87d4-7b16caf5d00b]\n",
      "└ @ Base loading.jl:1190\n"
     ]
    },
    {
     "data": {
      "text/plain": [
       "\"../data/count_lengths/run_2018-11-26\""
      ]
     },
     "execution_count": 1,
     "metadata": {},
     "output_type": "execute_result"
    }
   ],
   "source": [
    "include(joinpath(\"..\",\"src\",\"setup.jl\"))\n",
    "datadir = joinpath(\"..\",\"data\",\"count_lengths\",\"run_2018-11-26\")"
   ]
  },
  {
   "cell_type": "markdown",
   "metadata": {},
   "source": [
    "# TODO: \n",
    "\n",
    "- show a figure of build up (compute from lengths and vals at a given grid size)\n",
    "- compare to buildup from Sndyer paper\n",
    "- create an RMS measure\n",
    "- work out the parameters to vary\n",
    "- run a simulation"
   ]
  },
  {
   "cell_type": "markdown",
   "metadata": {},
   "source": [
    "## New plans\n",
    "\n",
    "Once that's done I can work on the New Stimuli notebook and check out context. At that point I can see if the same problem with 12st persists, and really get in to the context stimuli."
   ]
  },
  {
   "cell_type": "code",
   "execution_count": 13,
   "metadata": {
    "colab": {},
    "colab_type": "code",
    "id": "vXIb6CK9s0G1"
   },
   "outputs": [
    {
     "data": {
      "text/plain": [
       "Dict{AbstractString,Any} with 9 entries:\n",
       "  \"percept_lengths\" => Dict{AbstractString,Any}(\"threshold\"=>0.2,\"min_length_ms…\n",
       "  \"freqs\"           => Dict{AbstractString,Any}(\"bistable\"=>Dict{AbstractString…\n",
       "  \"mask\"            => Dict{AbstractString,Any}(\"window_ms\"=>500,\"delta_ms\"=>25…\n",
       "  \"rates\"           => Dict{AbstractString,Any}(\"rates_Hz\"=>[2, 4, 8, 16, 32],\"…\n",
       "  \"scales\"          => Dict{AbstractString,Any}(\"bistable\"=>Dict{AbstractString…\n",
       "  \"stimulus\"        => Dict{AbstractString,Any}(\"repeats\"=>100,\"ramp_len_ms\"=>1…\n",
       "  \"track\"           => Dict{AbstractString,Any}(\"bistable\"=>Dict{AbstractString…\n",
       "  \"nmf\"             => Dict{AbstractString,Any}(\"skipframes\"=>0,\"tol\"=>0.001,\"w…\n",
       "  \"bandwidth_ratio\" => Dict{AbstractString,Any}(\"window_ms\"=>800,\"full_band_rat…"
      ]
     },
     "execution_count": 13,
     "metadata": {},
     "output_type": "execute_result"
    }
   ],
   "source": [
    "params = load_params(joinpath(datadir,\"params.jld2\"))\n",
    "params[:pindex] = 1:size(params,1)\n",
    "settings = joinpath(\"..\",\"src\",\"settings.toml\")\n",
    "settings = TOML.parsefile(settings)"
   ]
  },
  {
   "cell_type": "code",
   "execution_count": 3,
   "metadata": {
    "colab": {},
    "colab_type": "code",
    "id": "vXIb6CK9s0G1"
   },
   "outputs": [
    {
     "name": "stderr",
     "output_type": "stream",
     "text": [
      "\u001b[32mProgress: 100%|█████████████████████████████████████████| Time: 0:00:04\u001b[39m\n"
     ]
    },
    {
     "data": {
      "text/html": [
       "<table class=\"data-frame\"><thead><tr><th></th><th>length</th><th>percepts</th><th>created</th><th>pindex</th></tr><tr><th></th><th>Float64</th><th>Int64</th><th>DateTime</th><th>Int64</th></tr></thead><tbody><tr><th>1</th><td>23.3</td><td>1</td><td>2018-11-26T17:38:30.128</td><td>1</td></tr><tr><th>2</th><td>23.3</td><td>1</td><td>2018-11-26T17:40:27.495</td><td>1</td></tr><tr><th>3</th><td>23.3</td><td>1</td><td>2018-11-26T17:40:30.437</td><td>1</td></tr><tr><th>4</th><td>23.3</td><td>1</td><td>2018-11-26T17:40:33.359</td><td>1</td></tr><tr><th>5</th><td>23.3</td><td>1</td><td>2018-11-26T17:40:36.249</td><td>1</td></tr><tr><th>6</th><td>23.3</td><td>1</td><td>2018-11-26T17:40:39.153</td><td>1</td></tr></tbody></table>"
      ],
      "text/latex": [
       "\\begin{tabular}{r|cccc}\n",
       "\t& length & percepts & created & pindex\\\\\n",
       "\t\\hline\n",
       "\t1 & 23.3 & 1 & 2018-11-26T17:38:30.128 & 1 \\\\\n",
       "\t2 & 23.3 & 1 & 2018-11-26T17:40:27.495 & 1 \\\\\n",
       "\t3 & 23.3 & 1 & 2018-11-26T17:40:30.437 & 1 \\\\\n",
       "\t4 & 23.3 & 1 & 2018-11-26T17:40:33.359 & 1 \\\\\n",
       "\t5 & 23.3 & 1 & 2018-11-26T17:40:36.249 & 1 \\\\\n",
       "\t6 & 23.3 & 1 & 2018-11-26T17:40:39.153 & 1 \\\\\n",
       "\\end{tabular}\n"
      ],
      "text/plain": [
       "6×4 DataFrame\n",
       "│ Row │ length  │ percepts │ created                 │ pindex │\n",
       "│     │ \u001b[90mFloat64\u001b[39m │ \u001b[90mInt64\u001b[39m    │ \u001b[90mDateTime\u001b[39m                │ \u001b[90mInt64\u001b[39m  │\n",
       "├─────┼─────────┼──────────┼─────────────────────────┼────────┤\n",
       "│ 1   │ 23.3    │ 1        │ 2018-11-26T17:38:30.128 │ 1      │\n",
       "│ 2   │ 23.3    │ 1        │ 2018-11-26T17:40:27.495 │ 1      │\n",
       "│ 3   │ 23.3    │ 1        │ 2018-11-26T17:40:30.437 │ 1      │\n",
       "│ 4   │ 23.3    │ 1        │ 2018-11-26T17:40:33.359 │ 1      │\n",
       "│ 5   │ 23.3    │ 1        │ 2018-11-26T17:40:36.249 │ 1      │\n",
       "│ 6   │ 23.3    │ 1        │ 2018-11-26T17:40:39.153 │ 1      │"
      ]
     },
     "execution_count": 3,
     "metadata": {},
     "output_type": "execute_result"
    }
   ],
   "source": [
    "results = []\n",
    "for_results_in(joinpath(datadir,\"data\")) do entry\n",
    "  push!(results,DataFrame(length=entry[\"lengths\"],\n",
    "                          percepts=entry[\"percepts\"].+1, # after +1, indicates the number of streams reported, 1 or 2\n",
    "                          created=entry[\"created\"],\n",
    "                          pindex=entry[\"pindex\"])) # the parameter index (pindex = N correspondes to row N of `params`)\n",
    "end\n",
    "df = vcat(results...);\n",
    "head(df)"
   ]
  },
  {
   "cell_type": "markdown",
   "metadata": {},
   "source": [
    "# Object-level build-up"
   ]
  },
  {
   "cell_type": "code",
   "execution_count": 4,
   "metadata": {},
   "outputs": [
    {
     "ename": "UndefVarError",
     "evalue": "UndefVarError: settings not defined",
     "output_type": "error",
     "traceback": [
      "UndefVarError: settings not defined",
      "",
      "Stacktrace:",
      " [1] top-level scope at In[4]:1"
     ]
    }
   ],
   "source": [
    "settings[\"track\"][\"analyze\"][\"source_prior_sd_bias\"] = [0,1000,0]\n",
    "settings[\"track\"][\"analyze\"][\"source_prior_strength_bias\"] = [0,2000]\n",
    "settings[\"stimulus\"][\"repeats\"] = 30\n",
    "settings[\"min_length_ms\"] = 250"
   ]
  },
  {
   "cell_type": "code",
   "execution_count": 5,
   "metadata": {},
   "outputs": [
    {
     "ename": "MethodError",
     "evalue": "MethodError: no method matching size(::JLD2.Group{JLD2.JLDFile{JLD2.MmapIO}}, ::Int64)\nClosest candidates are:\n  size(!Matched::BitArray{1}, ::Any) at bitarray.jl:74\n  size(!Matched::Compose.Table, ::Integer) at /Users/davidlittle/.julia/packages/Compose/BYWXX/src/table.jl:72\n  size(!Matched::Tuple, ::Any) at tuple.jl:22\n  ...",
     "output_type": "error",
     "traceback": [
      "MethodError: no method matching size(::JLD2.Group{JLD2.JLDFile{JLD2.MmapIO}}, ::Int64)\nClosest candidates are:\n  size(!Matched::BitArray{1}, ::Any) at bitarray.jl:74\n  size(!Matched::Compose.Table, ::Integer) at /Users/davidlittle/.julia/packages/Compose/BYWXX/src/table.jl:72\n  size(!Matched::Tuple, ::Any) at tuple.jl:22\n  ...",
      "",
      "Stacktrace:",
      " [1] #select_params#35(::Base.Iterators.Pairs{Symbol,Int64,Tuple{Symbol,Symbol,Symbol},NamedTuple{(:t_c_a, :t_c_m, :Δf),Tuple{Int64,Int64,Int64}}}, ::Function, ::JLD2.Group{JLD2.JLDFile{JLD2.MmapIO}}) at /Users/davidlittle/googledrive/Work/Software/bistable/src/measures.jl:8",
      " [2] (::getfield(Main, Symbol(\"#kw##select_params\")))(::NamedTuple{(:t_c_a, :t_c_m, :Δf),Tuple{Int64,Int64,Int64}}, ::typeof(select_params), ::JLD2.Group{JLD2.JLDFile{JLD2.MmapIO}}) at ./none:0",
      " [3] top-level scope at In[5]:1"
     ]
    }
   ],
   "source": [
    "p = copy(params[select_params(params,t_c_a=5,t_c_m=5,Δf=6),:])\n",
    "p.t_c_σ = 3.0\n",
    "run1 = bistable_model(p,settings,intermediate_results=true);"
   ]
  },
  {
   "cell_type": "code",
   "execution_count": 6,
   "metadata": {},
   "outputs": [
    {
     "ename": "UndefVarError",
     "evalue": "UndefVarError: run1 not defined",
     "output_type": "error",
     "traceback": [
      "UndefVarError: run1 not defined",
      "",
      "Stacktrace:",
      " [1] top-level scope at In[6]:1"
     ]
    }
   ],
   "source": [
    "rplot(run1.sources.outweights)"
   ]
  },
  {
   "cell_type": "code",
   "execution_count": 7,
   "metadata": {},
   "outputs": [
    {
     "ename": "UndefVarError",
     "evalue": "UndefVarError: run1 not defined",
     "output_type": "error",
     "traceback": [
      "UndefVarError: run1 not defined",
      "",
      "Stacktrace:",
      " [1] top-level scope at In[7]:1"
     ]
    }
   ],
   "source": [
    "rplot(run1.primary_source)"
   ]
  },
  {
   "cell_type": "code",
   "execution_count": 8,
   "metadata": {},
   "outputs": [
    {
     "ename": "MethodError",
     "evalue": "MethodError: no method matching size(::JLD2.Group{JLD2.JLDFile{JLD2.MmapIO}}, ::Int64)\nClosest candidates are:\n  size(!Matched::BitArray{1}, ::Any) at bitarray.jl:74\n  size(!Matched::Compose.Table, ::Integer) at /Users/davidlittle/.julia/packages/Compose/BYWXX/src/table.jl:72\n  size(!Matched::Tuple, ::Any) at tuple.jl:22\n  ...",
     "output_type": "error",
     "traceback": [
      "MethodError: no method matching size(::JLD2.Group{JLD2.JLDFile{JLD2.MmapIO}}, ::Int64)\nClosest candidates are:\n  size(!Matched::BitArray{1}, ::Any) at bitarray.jl:74\n  size(!Matched::Compose.Table, ::Integer) at /Users/davidlittle/.julia/packages/Compose/BYWXX/src/table.jl:72\n  size(!Matched::Tuple, ::Any) at tuple.jl:22\n  ...",
      "",
      "Stacktrace:",
      " [1] #select_params#35(::Base.Iterators.Pairs{Symbol,Int64,Tuple{Symbol,Symbol,Symbol},NamedTuple{(:t_c_a, :t_c_m, :Δf),Tuple{Int64,Int64,Int64}}}, ::Function, ::JLD2.Group{JLD2.JLDFile{JLD2.MmapIO}}) at /Users/davidlittle/googledrive/Work/Software/bistable/src/measures.jl:8",
      " [2] (::getfield(Main, Symbol(\"#kw##select_params\")))(::NamedTuple{(:t_c_a, :t_c_m, :Δf),Tuple{Int64,Int64,Int64}}, ::typeof(select_params), ::JLD2.Group{JLD2.JLDFile{JLD2.MmapIO}}) at ./none:0",
      " [3] top-level scope at In[8]:2"
     ]
    }
   ],
   "source": [
    "result = []\n",
    "p = copy(params[select_params(params,t_c_a=5,t_c_m=5,Δf=6),:])\n",
    "p.t_c_σ = 6.0\n",
    "@showprogress for i in 1:100\n",
    "    len,val = bistable_model(p,settings,intermediate_results=true).percepts.counts\n",
    "    push!(result,DataFrame(length=len,response=val.+1,run=i))\n",
    "end\n",
    "buildup = vcat(result...)\n",
    "head(buildup);"
   ]
  },
  {
   "cell_type": "code",
   "execution_count": 9,
   "metadata": {},
   "outputs": [
    {
     "ename": "UndefVarError",
     "evalue": "UndefVarError: buildup not defined",
     "output_type": "error",
     "traceback": [
      "UndefVarError: buildup not defined",
      "",
      "Stacktrace:",
      " [1] top-level scope at In[9]:1"
     ]
    }
   ],
   "source": [
    "head(buildup)"
   ]
  },
  {
   "cell_type": "code",
   "execution_count": 10,
   "metadata": {},
   "outputs": [
    {
     "ename": "UndefVarError",
     "evalue": "UndefVarError: buildup not defined",
     "output_type": "error",
     "traceback": [
      "UndefVarError: buildup not defined",
      "",
      "Stacktrace:",
      " [1] top-level scope at In[10]:1"
     ]
    }
   ],
   "source": [
    "sdf = buildup_mean(buildup,delta=0.24,length=14);"
   ]
  },
  {
   "cell_type": "code",
   "execution_count": 11,
   "metadata": {},
   "outputs": [
    {
     "ename": "UndefVarError",
     "evalue": "UndefVarError: sdf not defined",
     "output_type": "error",
     "traceback": [
      "UndefVarError: sdf not defined",
      "",
      "Stacktrace:",
      " [1] top-level scope at In[11]:1"
     ]
    }
   ],
   "source": [
    "draw(PNG(6inch,3inch),plot(sdf,x=:time,y=:value,Geom.line,Coord.cartesian(ymax=1.0,xmax=6.72)))"
   ]
  },
  {
   "cell_type": "code",
   "execution_count": 12,
   "metadata": {},
   "outputs": [
    {
     "ename": "UndefVarError",
     "evalue": "UndefVarError: hdf_mean not defined",
     "output_type": "error",
     "traceback": [
      "UndefVarError: hdf_mean not defined",
      "",
      "Stacktrace:",
      " [1] top-level scope at In[12]:1"
     ]
    }
   ],
   "source": [
    "draw(PNG(6inch,4inch),plot(hdf_mean,x=:time,y=:response,Geom.line,Coord.cartesian(xmax=6.72,ymax=1.0)))"
   ]
  },
  {
   "cell_type": "code",
   "execution_count": 194,
   "metadata": {},
   "outputs": [
    {
     "data": {
      "text/plain": [
       "0.2099205836145842"
      ]
     },
     "execution_count": 194,
     "metadata": {},
     "output_type": "execute_result"
    }
   ],
   "source": [
    "rms(sdf.value[0.0 .< sdf.time .< 6.72] .- hdf_mean.response[hdf_mean.time .< 6.72])"
   ]
  },
  {
   "cell_type": "code",
   "execution_count": 60,
   "metadata": {},
   "outputs": [
    {
     "data": {
      "text/html": [
       "<table class=\"data-frame\"><thead><tr><th></th><th>Column1</th><th>sid</th><th>sample</th><th>time</th><th>context_A</th><th>context_B</th><th>st</th><th>test_A</th><th>test_B</th><th>response</th><th>same_freq</th></tr><tr><th></th><th>Int64⍰</th><th>String⍰</th><th>Int64⍰</th><th>Float64⍰</th><th>Int64⍰</th><th>Int64⍰</th><th>Int64⍰</th><th>Int64⍰</th><th>Int64⍰</th><th>Int64⍰</th><th>String⍰</th></tr></thead><tbody><tr><th>1</th><td>1</td><td>CK</td><td>1</td><td>0.24</td><td>1</td><td>1</td><td>0</td><td>300</td><td>424</td><td>0</td><td>FALSE</td></tr><tr><th>2</th><td>2</td><td>CK</td><td>2</td><td>0.48</td><td>1</td><td>1</td><td>0</td><td>300</td><td>424</td><td>0</td><td>FALSE</td></tr><tr><th>3</th><td>3</td><td>CK</td><td>3</td><td>0.72</td><td>1</td><td>1</td><td>0</td><td>300</td><td>424</td><td>0</td><td>FALSE</td></tr><tr><th>4</th><td>4</td><td>CK</td><td>4</td><td>0.96</td><td>1</td><td>1</td><td>0</td><td>300</td><td>424</td><td>0</td><td>FALSE</td></tr><tr><th>5</th><td>5</td><td>CK</td><td>5</td><td>1.2</td><td>1</td><td>1</td><td>0</td><td>300</td><td>424</td><td>0</td><td>FALSE</td></tr><tr><th>6</th><td>6</td><td>CK</td><td>6</td><td>1.44</td><td>1</td><td>1</td><td>0</td><td>300</td><td>424</td><td>0</td><td>FALSE</td></tr></tbody></table>"
      ],
      "text/plain": [
       "6×11 DataFrame. Omitted printing of 4 columns\n",
       "│ Row │ Column1 │ sid     │ sample │ time     │ context_A │ context_B │ st     │\n",
       "│     │ \u001b[90mInt64⍰\u001b[39m  │ \u001b[90mString⍰\u001b[39m │ \u001b[90mInt64⍰\u001b[39m │ \u001b[90mFloat64⍰\u001b[39m │ \u001b[90mInt64⍰\u001b[39m    │ \u001b[90mInt64⍰\u001b[39m    │ \u001b[90mInt64⍰\u001b[39m │\n",
       "├─────┼─────────┼─────────┼────────┼──────────┼───────────┼───────────┼────────┤\n",
       "│ 1   │ 1       │ CK      │ 1      │ 0.24     │ 1         │ 1         │ 0      │\n",
       "│ 2   │ 2       │ CK      │ 2      │ 0.48     │ 1         │ 1         │ 0      │\n",
       "│ 3   │ 3       │ CK      │ 3      │ 0.72     │ 1         │ 1         │ 0      │\n",
       "│ 4   │ 4       │ CK      │ 4      │ 0.96     │ 1         │ 1         │ 0      │\n",
       "│ 5   │ 5       │ CK      │ 5      │ 1.2      │ 1         │ 1         │ 0      │\n",
       "│ 6   │ 6       │ CK      │ 6      │ 1.44     │ 1         │ 1         │ 0      │"
      ]
     },
     "execution_count": 60,
     "metadata": {},
     "output_type": "execute_result"
    }
   ],
   "source": [
    "hdf = CSV.read(joinpath(\"..\",\"analysis\",\"context\",\"exp1A.csv\"))\n",
    "head(hdf)"
   ]
  },
  {
   "cell_type": "code",
   "execution_count": 61,
   "metadata": {},
   "outputs": [
    {
     "data": {
      "text/plain": [
       "0.24"
      ]
     },
     "execution_count": 61,
     "metadata": {},
     "output_type": "execute_result"
    }
   ],
   "source": [
    "delta = diff(hdf.time[1:2])[1]"
   ]
  },
  {
   "cell_type": "code",
   "execution_count": 72,
   "metadata": {},
   "outputs": [
    {
     "data": {
      "text/html": [
       "<table class=\"data-frame\"><thead><tr><th></th><th>time</th><th>response</th></tr><tr><th></th><th>Float64⍰</th><th>Float64</th></tr></thead><tbody><tr><th>1</th><td>0.24</td><td>0.0</td></tr><tr><th>2</th><td>0.48</td><td>0.0</td></tr><tr><th>3</th><td>0.72</td><td>0.0</td></tr><tr><th>4</th><td>0.96</td><td>0.0</td></tr><tr><th>5</th><td>1.2</td><td>0.00925926</td></tr><tr><th>6</th><td>1.44</td><td>0.037037</td></tr></tbody></table>"
      ],
      "text/plain": [
       "6×2 DataFrame\n",
       "│ Row │ time     │ response   │\n",
       "│     │ \u001b[90mFloat64⍰\u001b[39m │ \u001b[90mFloat64\u001b[39m    │\n",
       "├─────┼──────────┼────────────┤\n",
       "│ 1   │ 0.24     │ 0.0        │\n",
       "│ 2   │ 0.48     │ 0.0        │\n",
       "│ 3   │ 0.72     │ 0.0        │\n",
       "│ 4   │ 0.96     │ 0.0        │\n",
       "│ 5   │ 1.2      │ 0.00925926 │\n",
       "│ 6   │ 1.44     │ 0.037037   │"
      ]
     },
     "execution_count": 72,
     "metadata": {},
     "output_type": "execute_result"
    }
   ],
   "source": [
    "hdf_mean = @linq hdf |>\n",
    "  where((:st .== 6) .& (:same_freq.==\"TRUE\")) |>\n",
    "  by(:time,response = mean(:response))\n",
    "head(hdf_mean)"
   ]
  }
 ],
 "metadata": {
  "kernelspec": {
   "display_name": "Julia 1.0.2",
   "language": "julia",
   "name": "julia-1.0"
  },
  "language_info": {
   "file_extension": ".jl",
   "mimetype": "application/julia",
   "name": "julia",
   "version": "1.0.2"
  }
 },
 "nbformat": 4,
 "nbformat_minor": 2
}
