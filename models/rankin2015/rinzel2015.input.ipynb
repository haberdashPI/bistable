{
 "cells": [
  {
   "cell_type": "code",
   "execution_count": null,
   "metadata": {
    "nbpresent": {
     "id": "80b7a4a1-7479-4bbc-a482-9fe2a3cbf75b"
    }
   },
   "outputs": [],
   "source": [
    "include(\"Rankin2015.jl\")\n",
    "using Rankin2015\n",
    "plotlyjs()\n",
    "init_notebook(true)"
   ]
  },
  {
   "cell_type": "markdown",
   "metadata": {
    "nbpresent": {
     "id": "8f7a14ce-b164-4e99-ab49-ca5c3b00b862"
    }
   },
   "source": [
    "## Testing collection equivalance"
   ]
  },
  {
   "cell_type": "code",
   "execution_count": null,
   "metadata": {
    "nbpresent": {
     "id": "696da0c7-eb13-4b83-bc89-5272884cd4ce"
    }
   },
   "outputs": [],
   "source": [
    "srand(1983)\n",
    "t,u,Ik,rs = collect(Simulation(2,20,10))"
   ]
  },
  {
   "cell_type": "code",
   "execution_count": null,
   "metadata": {
    "nbpresent": {
     "id": "a117b7ea-2387-4e5f-b483-7bdf994586b6"
    }
   },
   "outputs": [],
   "source": [
    "plot(t[1:2:4000],u[1:2:4000,e],label = [\"A\" \"AB\" \"B\"])"
   ]
  },
  {
   "cell_type": "code",
   "execution_count": null,
   "metadata": {},
   "outputs": [],
   "source": [
    "srand(1983)\n",
    "t,u,Ik,rs = partial_collect(Simulation(2,20,10,dt=1/200),min=0,max=4,decim=2)"
   ]
  },
  {
   "cell_type": "code",
   "execution_count": null,
   "metadata": {},
   "outputs": [],
   "source": [
    "plot(t,u[:,e],label=[\"A\" \"AB\" \"B\"])"
   ]
  },
  {
   "cell_type": "code",
   "execution_count": null,
   "metadata": {},
   "outputs": [],
   "source": [
    "scatter(t[find(rs)],ones(sum(rs)),color = \"red\",mswidth=0,msize=2)\n",
    "scatter!(t[find(.!rs)],ones(sum(.!rs)),color = \"blue\",mswidth=0,msize=2)"
   ]
  },
  {
   "cell_type": "markdown",
   "metadata": {},
   "source": [
    "## Timing"
   ]
  },
  {
   "cell_type": "code",
   "execution_count": null,
   "metadata": {},
   "outputs": [],
   "source": [
    "@time create_inputs(5,8,240)"
   ]
  },
  {
   "cell_type": "code",
   "execution_count": null,
   "metadata": {},
   "outputs": [],
   "source": [
    "@time create_inputs(5,20,240)"
   ]
  },
  {
   "cell_type": "code",
   "execution_count": null,
   "metadata": {},
   "outputs": [],
   "source": [
    "@time myinputs = create_inputs(10,8,240,dt=1/200)"
   ]
  },
  {
   "cell_type": "code",
   "execution_count": null,
   "metadata": {},
   "outputs": [],
   "source": [
    "@time mean(responses(Simulation(10,8,240,dt=1/200,inputs=myinputs)))"
   ]
  },
  {
   "cell_type": "code",
   "execution_count": null,
   "metadata": {},
   "outputs": [],
   "source": [
    "@time mean(responses(Simulation(10,20,240,dt=1/200)))"
   ]
  },
  {
   "cell_type": "code",
   "execution_count": null,
   "metadata": {},
   "outputs": [],
   "source": [
    "@time mean(responses(Simulation(10,2,240,dt=1/200)))"
   ]
  }
 ],
 "metadata": {
  "anaconda-cloud": {},
  "kernelspec": {
   "display_name": "Julia 0.6.0",
   "language": "julia",
   "name": "julia-0.6"
  },
  "language_info": {
   "file_extension": ".jl",
   "mimetype": "application/julia",
   "name": "julia"
  }
 },
 "nbformat": 4,
 "nbformat_minor": 1
}
