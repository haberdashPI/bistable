{
 "cells": [
  {
   "cell_type": "code",
   "execution_count": null,
   "metadata": {
    "nbpresent": {
     "id": "80b7a4a1-7479-4bbc-a482-9fe2a3cbf75b"
    }
   },
   "outputs": [],
   "source": [
    "include(\"rinzel2015.jl\")\n",
    "plotly()\n",
    "init_notebook(true)"
   ]
  },
  {
   "cell_type": "markdown",
   "metadata": {
    "nbpresent": {
     "id": "8f7a14ce-b164-4e99-ab49-ca5c3b00b862"
    }
   },
   "source": [
    "## Fused stimulus"
   ]
  },
  {
   "cell_type": "markdown",
   "metadata": {
    "nbpresent": {
     "id": "c935d788-20ae-4a33-95cd-8cd75c901ad9"
    }
   },
   "source": [
    "### $\\Delta$ f = 2, Hz = 20"
   ]
  },
  {
   "cell_type": "code",
   "execution_count": null,
   "metadata": {
    "nbpresent": {
     "id": "696da0c7-eb13-4b83-bc89-5272884cd4ce"
    }
   },
   "outputs": [],
   "source": [
    "srand(1983)\n",
    "t,u,Ik,rs = collect(Simulation(2,20,10))"
   ]
  },
  {
   "cell_type": "code",
   "execution_count": null,
   "metadata": {
    "nbpresent": {
     "id": "a117b7ea-2387-4e5f-b483-7bdf994586b6"
    }
   },
   "outputs": [],
   "source": [
    "plot(t[1:2:4000],u[1:2:4000,e],label = [\"A\" \"AB\" \"B\"])"
   ]
  },
  {
   "cell_type": "code",
   "execution_count": null,
   "metadata": {},
   "outputs": [],
   "source": [
    "srand(1983)\n",
    "t,u,Ik,rs = partial_collect(Simulation(2,20,10,dt=1/200),min=0,max=4,decim=2)"
   ]
  },
  {
   "cell_type": "code",
   "execution_count": null,
   "metadata": {},
   "outputs": [],
   "source": [
    "plot(t,u[:,e],label=[\"A\" \"AB\" \"B\"])"
   ]
  },
  {
   "cell_type": "code",
   "execution_count": null,
   "metadata": {},
   "outputs": [],
   "source": [
    "@time mean(responses(Simulation(5,8,240,dt=1/200)))"
   ]
  },
  {
   "cell_type": "code",
   "execution_count": null,
   "metadata": {},
   "outputs": [],
   "source": [
    "@time mean(responses(Simulation(10,8,240,dt=1/200)))"
   ]
  },
  {
   "cell_type": "code",
   "execution_count": null,
   "metadata": {},
   "outputs": [],
   "source": [
    "@time mean(responses(Simulation(5,8,240,dt=1/200,inputs=OfflineInputs)))"
   ]
  },
  {
   "cell_type": "code",
   "execution_count": null,
   "metadata": {
    "nbpresent": {
     "id": "96ed7f57-53ea-4a85-9725-a5c5cd03615b"
    }
   },
   "outputs": [],
   "source": [
    "is = t .< 1\n",
    "plot(t[is],u[is,Σ_I],label = [\"A\" \"AB\" \"B\"])"
   ]
  },
  {
   "cell_type": "markdown",
   "metadata": {
    "nbpresent": {
     "id": "8c019b4e-0063-4d87-b364-d95ca822d984"
    }
   },
   "source": [
    "### $\\Delta$ = 5, Hz = 8"
   ]
  },
  {
   "cell_type": "code",
   "execution_count": null,
   "metadata": {
    "nbpresent": {
     "id": "e8549d79-c257-40aa-8a27-0ad29d1fd55d"
    }
   },
   "outputs": [],
   "source": [
    "t,u,Ik = simulate(5,8,100)"
   ]
  },
  {
   "cell_type": "code",
   "execution_count": null,
   "metadata": {
    "nbpresent": {
     "id": "f8693fcb-fb58-4d99-ae66-549a7f01cf6b"
    }
   },
   "outputs": [],
   "source": [
    "plot(t,u[:,r],label = [\"A\" \"AB\" \"B\"])"
   ]
  },
  {
   "cell_type": "code",
   "execution_count": null,
   "metadata": {},
   "outputs": [],
   "source": [
    "is = t .< 100\n",
    "y = responses(t[is],u[is,:]) * 1\n",
    "scatter(t[is][y .== 0],fill(1,sum(y .== 0)),color = \"red\",mswidth = 0)\n",
    "scatter!(t[is][y .== 1],fill(0,sum(y .== 1)),color = \"blue\",mswidth = 0)"
   ]
  },
  {
   "cell_type": "code",
   "execution_count": null,
   "metadata": {
    "nbpresent": {
     "id": "a2623f2c-ed67-4790-a193-0848bc0a2450"
    }
   },
   "outputs": [],
   "source": [
    "is = t .< 0.5\n",
    "plot(t[is],u[is,Σ_I],label = [\"A\" \"AB\" \"B\"])"
   ]
  },
  {
   "cell_type": "markdown",
   "metadata": {},
   "source": [
    "# Testing equivalence of online inputs"
   ]
  },
  {
   "cell_type": "code",
   "execution_count": null,
   "metadata": {},
   "outputs": [],
   "source": [
    "If_1 = Inputs(5,8,10);\n",
    "If_2 = OnlineInputs(5,8,10);"
   ]
  },
  {
   "cell_type": "code",
   "execution_count": null,
   "metadata": {},
   "outputs": [],
   "source": [
    "plot(If_1[1:1000,:],label=[\"A\",\"AB\",\"B\"])"
   ]
  },
  {
   "cell_type": "code",
   "execution_count": null,
   "metadata": {},
   "outputs": [],
   "source": [
    "plot(If_2[1:1000,:],label=[\"A\",\"AB\",\"B\"])"
   ]
  },
  {
   "cell_type": "code",
   "execution_count": null,
   "metadata": {},
   "outputs": [],
   "source": [
    "√(sum((If_1 - If_2).^2))"
   ]
  },
  {
   "cell_type": "code",
   "execution_count": null,
   "metadata": {},
   "outputs": [],
   "source": [
    "maximum(If_1 - If_2)"
   ]
  }
 ],
 "metadata": {
  "anaconda-cloud": {},
  "kernelspec": {
   "display_name": "Julia 0.6.0",
   "language": "julia",
   "name": "julia-0.6"
  },
  "language_info": {
   "file_extension": ".jl",
   "mimetype": "application/julia",
   "name": "julia"
  }
 },
 "nbformat": 4,
 "nbformat_minor": 1
}
